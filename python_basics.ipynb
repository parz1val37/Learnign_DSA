{
 "cells": [
  {
   "cell_type": "code",
   "execution_count": 2,
   "id": "a5188142-b6da-4c10-be0b-2bf739bf1024",
   "metadata": {},
   "outputs": [],
   "source": [
    "x = 3"
   ]
  },
  {
   "cell_type": "code",
   "execution_count": 3,
   "id": "aeda122b-4d29-41f8-9722-b6edcbbf74a7",
   "metadata": {},
   "outputs": [],
   "source": [
    "y = 37"
   ]
  },
  {
   "cell_type": "code",
   "execution_count": 4,
   "id": "00f92260-8670-4225-8add-0e1cbc0b339f",
   "metadata": {},
   "outputs": [
    {
     "data": {
      "text/plain": [
       "40"
      ]
     },
     "execution_count": 4,
     "metadata": {},
     "output_type": "execute_result"
    }
   ],
   "source": [
    "x + y"
   ]
  },
  {
   "cell_type": "code",
   "execution_count": 5,
   "id": "6de6a441-ff1c-4550-83ca-310423f10f0f",
   "metadata": {},
   "outputs": [],
   "source": [
    "name = \"Bob\""
   ]
  },
  {
   "cell_type": "code",
   "execution_count": 6,
   "id": "65668edf-8471-435a-b3fb-7d0a3de4646c",
   "metadata": {},
   "outputs": [
    {
     "name": "stdout",
     "output_type": "stream",
     "text": [
      "Bob\n"
     ]
    }
   ],
   "source": [
    "print(name)"
   ]
  },
  {
   "cell_type": "code",
   "execution_count": 7,
   "id": "fba85b29-5a0e-4d7a-a093-c925d67ec5b1",
   "metadata": {},
   "outputs": [],
   "source": [
    "#Very basics of python --- This is a comment"
   ]
  },
  {
   "cell_type": "code",
   "execution_count": 8,
   "id": "296115af-5348-46ab-9719-836a91c5ab3a",
   "metadata": {},
   "outputs": [
    {
     "name": "stdout",
     "output_type": "stream",
     "text": [
      "<class 'int'>\n"
     ]
    }
   ],
   "source": [
    "print(type(x))"
   ]
  },
  {
   "cell_type": "code",
   "execution_count": 9,
   "id": "0d358d01-fb65-466b-800a-6fae737a5944",
   "metadata": {},
   "outputs": [
    {
     "data": {
      "text/plain": [
       "str"
      ]
     },
     "execution_count": 9,
     "metadata": {},
     "output_type": "execute_result"
    }
   ],
   "source": [
    "type(name)"
   ]
  },
  {
   "cell_type": "code",
   "execution_count": 10,
   "id": "7d8c8ff5-0566-406e-bb8e-8aa498e5f501",
   "metadata": {},
   "outputs": [
    {
     "name": "stdout",
     "output_type": "stream",
     "text": [
      "BobBobBob\n"
     ]
    }
   ],
   "source": [
    "print(x*name)"
   ]
  },
  {
   "cell_type": "code",
   "execution_count": 11,
   "id": "f1f7c35a-ffa5-4cac-8040-acc1a6302014",
   "metadata": {},
   "outputs": [
    {
     "data": {
      "text/plain": [
       "'\\nmulti\\nline\\ncomment\\n'"
      ]
     },
     "execution_count": 11,
     "metadata": {},
     "output_type": "execute_result"
    }
   ],
   "source": [
    "'''\n",
    "multi\n",
    "line\n",
    "comment\n",
    "'''"
   ]
  },
  {
   "cell_type": "code",
   "execution_count": 12,
   "id": "c9d99fa3-6cab-45ce-baee-88fdaf7dd896",
   "metadata": {},
   "outputs": [
    {
     "name": "stdout",
     "output_type": "stream",
     "text": [
      "<class 'bool'>\n"
     ]
    }
   ],
   "source": [
    "r = True\n",
    "print(type(r))"
   ]
  },
  {
   "cell_type": "raw",
   "id": "3113fd7c-439d-4afd-8fa8-1175a1c50445",
   "metadata": {},
   "source": [
    "Strings and its method"
   ]
  },
  {
   "cell_type": "code",
   "execution_count": 13,
   "id": "a4c3154b-746d-45ba-9ffb-57a76adfff5d",
   "metadata": {},
   "outputs": [],
   "source": [
    "name = \"Clark\""
   ]
  },
  {
   "cell_type": "code",
   "execution_count": 14,
   "id": "d229a466-7534-44da-841d-2791ffb7ebcd",
   "metadata": {},
   "outputs": [
    {
     "data": {
      "text/plain": [
       "'Clark'"
      ]
     },
     "execution_count": 14,
     "metadata": {},
     "output_type": "execute_result"
    }
   ],
   "source": [
    "name"
   ]
  },
  {
   "cell_type": "code",
   "execution_count": 15,
   "id": "1e58c3bd-1350-4055-94d7-69581ff6a7a2",
   "metadata": {},
   "outputs": [
    {
     "data": {
      "text/plain": [
       "('Clark', 'CLARK')"
      ]
     },
     "execution_count": 15,
     "metadata": {},
     "output_type": "execute_result"
    }
   ],
   "source": [
    "name.capitalize() , name.upper()"
   ]
  },
  {
   "cell_type": "code",
   "execution_count": 16,
   "id": "341b868f-c883-4ee1-95f3-fb94b8e7b90d",
   "metadata": {},
   "outputs": [
    {
     "data": {
      "text/plain": [
       "True"
      ]
     },
     "execution_count": 16,
     "metadata": {},
     "output_type": "execute_result"
    }
   ],
   "source": [
    "name.endswith(\"k\")"
   ]
  },
  {
   "cell_type": "code",
   "execution_count": 17,
   "id": "655318b3-22aa-43f3-94b9-80ab152e9b97",
   "metadata": {},
   "outputs": [
    {
     "data": {
      "text/plain": [
       "'r'"
      ]
     },
     "execution_count": 17,
     "metadata": {},
     "output_type": "execute_result"
    }
   ],
   "source": [
    "name[3]"
   ]
  },
  {
   "cell_type": "code",
   "execution_count": 18,
   "id": "efc8de72-4e1d-490a-8e86-646ccf3793ec",
   "metadata": {},
   "outputs": [
    {
     "data": {
      "text/plain": [
       "5"
      ]
     },
     "execution_count": 18,
     "metadata": {},
     "output_type": "execute_result"
    }
   ],
   "source": [
    "len(name)"
   ]
  },
  {
   "cell_type": "raw",
   "id": "5ad65b3f-3de4-4a69-b9e4-26211f2cbd27",
   "metadata": {},
   "source": [
    ".replace -- replaces every occurance"
   ]
  },
  {
   "cell_type": "code",
   "execution_count": 19,
   "id": "3d421cfc-8ba4-4d87-83cc-d9cdef7bccdc",
   "metadata": {},
   "outputs": [],
   "source": [
    "name1 = \"xxyyzz\""
   ]
  },
  {
   "cell_type": "code",
   "execution_count": 20,
   "id": "c5225996-f76e-4d45-9e3e-1d28ca19724a",
   "metadata": {},
   "outputs": [
    {
     "data": {
      "text/plain": [
       "'xxrrzz'"
      ]
     },
     "execution_count": 20,
     "metadata": {},
     "output_type": "execute_result"
    }
   ],
   "source": [
    "name1.replace(\"y\", \"r\")"
   ]
  },
  {
   "cell_type": "code",
   "execution_count": 21,
   "id": "6c1a4c24-f546-40c7-8acf-df7a83235ef9",
   "metadata": {},
   "outputs": [],
   "source": [
    "l = 337769"
   ]
  },
  {
   "cell_type": "code",
   "execution_count": 22,
   "id": "302713f4-621e-4469-af24-936d1176db47",
   "metadata": {},
   "outputs": [],
   "source": [
    "k = str(l)"
   ]
  },
  {
   "cell_type": "code",
   "execution_count": 23,
   "id": "d6b1a702-3299-454b-b5ac-affc62a31e08",
   "metadata": {},
   "outputs": [
    {
     "data": {
      "text/plain": [
       "'447769'"
      ]
     },
     "execution_count": 23,
     "metadata": {},
     "output_type": "execute_result"
    }
   ],
   "source": [
    "k.replace(\"3\", \"4\")"
   ]
  },
  {
   "cell_type": "code",
   "execution_count": 24,
   "id": "2b268f0c-587a-49ec-ab93-ee5da3a53a60",
   "metadata": {},
   "outputs": [],
   "source": [
    "words = \"Hello, Python, World, games\""
   ]
  },
  {
   "cell_type": "code",
   "execution_count": 25,
   "id": "d420098b-75c0-44a0-ab54-0b956a6cd344",
   "metadata": {},
   "outputs": [
    {
     "data": {
      "text/plain": [
       "['Hello', ' Python', ' World', ' games']"
      ]
     },
     "execution_count": 25,
     "metadata": {},
     "output_type": "execute_result"
    }
   ],
   "source": [
    "words.split(\",\")"
   ]
  },
  {
   "cell_type": "code",
   "execution_count": 26,
   "id": "657e1419-417d-43fe-932f-3d68e24cc670",
   "metadata": {},
   "outputs": [
    {
     "data": {
      "text/plain": [
       "'Cla'"
      ]
     },
     "execution_count": 26,
     "metadata": {},
     "output_type": "execute_result"
    }
   ],
   "source": [
    "name[0:3]  # goes upto (n-1) terms"
   ]
  },
  {
   "cell_type": "code",
   "execution_count": 27,
   "id": "684102a6-8d2a-4485-a0c7-dfbbfba4121a",
   "metadata": {},
   "outputs": [
    {
     "data": {
      "text/plain": [
       "'ark'"
      ]
     },
     "execution_count": 27,
     "metadata": {},
     "output_type": "execute_result"
    }
   ],
   "source": [
    "name[2:len(name)]"
   ]
  },
  {
   "cell_type": "markdown",
   "id": "5e66c942-6bdd-45fd-942d-d0d30ac84b5b",
   "metadata": {},
   "source": [
    "OPERATORS IN PYTHON"
   ]
  },
  {
   "cell_type": "code",
   "execution_count": 18,
   "id": "e9809bf0-47b2-49b4-b0f9-9d78c169dc11",
   "metadata": {},
   "outputs": [],
   "source": [
    "a = 36"
   ]
  },
  {
   "cell_type": "code",
   "execution_count": 19,
   "id": "2fd17209-3299-4d9a-bcc4-9c0e84a15f93",
   "metadata": {},
   "outputs": [],
   "source": [
    "b = 3"
   ]
  },
  {
   "cell_type": "code",
   "execution_count": 20,
   "id": "bcbc1241-d578-47b5-97e9-32e1caa9eb39",
   "metadata": {},
   "outputs": [
    {
     "data": {
      "text/plain": [
       "12.0"
      ]
     },
     "execution_count": 20,
     "metadata": {},
     "output_type": "execute_result"
    }
   ],
   "source": [
    "a/b   #-- / Divide"
   ]
  },
  {
   "cell_type": "code",
   "execution_count": 21,
   "id": "e8a875b1-f9f8-4b0c-80a4-3411acd4f842",
   "metadata": {},
   "outputs": [
    {
     "data": {
      "text/plain": [
       "12"
      ]
     },
     "execution_count": 21,
     "metadata": {},
     "output_type": "execute_result"
    }
   ],
   "source": [
    "a//b #-- // divide and return floor integer"
   ]
  },
  {
   "cell_type": "code",
   "execution_count": 22,
   "id": "0daea1b4-6ba0-4eda-a110-553c6a0b66f5",
   "metadata": {},
   "outputs": [
    {
     "data": {
      "text/plain": [
       "108"
      ]
     },
     "execution_count": 22,
     "metadata": {},
     "output_type": "execute_result"
    }
   ],
   "source": [
    "a*b"
   ]
  },
  {
   "cell_type": "code",
   "execution_count": 23,
   "id": "90fefa6e-bb79-4a28-918b-800445096014",
   "metadata": {},
   "outputs": [
    {
     "data": {
      "text/plain": [
       "46656"
      ]
     },
     "execution_count": 23,
     "metadata": {},
     "output_type": "execute_result"
    }
   ],
   "source": [
    "a**b  #- ** is for squaring"
   ]
  },
  {
   "cell_type": "code",
   "execution_count": 24,
   "id": "1423c585-83a5-4336-b8a8-477c728b6e3a",
   "metadata": {},
   "outputs": [
    {
     "data": {
      "text/plain": [
       "39"
      ]
     },
     "execution_count": 24,
     "metadata": {},
     "output_type": "execute_result"
    }
   ],
   "source": [
    "a + b"
   ]
  },
  {
   "cell_type": "code",
   "execution_count": 25,
   "id": "96895531-2816-41fc-9b81-dd18dae1a763",
   "metadata": {},
   "outputs": [
    {
     "data": {
      "text/plain": [
       "-33"
      ]
     },
     "execution_count": 25,
     "metadata": {},
     "output_type": "execute_result"
    }
   ],
   "source": [
    "b - a"
   ]
  },
  {
   "cell_type": "code",
   "execution_count": 26,
   "id": "6488530b-7189-4040-85c6-e44407ceeb43",
   "metadata": {},
   "outputs": [
    {
     "data": {
      "text/plain": [
       "0"
      ]
     },
     "execution_count": 26,
     "metadata": {},
     "output_type": "execute_result"
    }
   ],
   "source": [
    "a%b  #-- % gives the remainder"
   ]
  },
  {
   "cell_type": "markdown",
   "id": "f37aa575-8a5a-4f16-a2a1-b8b3347563b7",
   "metadata": {},
   "source": [
    "COMPARISON OPERATORS"
   ]
  },
  {
   "cell_type": "code",
   "execution_count": 33,
   "id": "d5297589-04e4-4382-b678-3c073200aadb",
   "metadata": {},
   "outputs": [
    {
     "data": {
      "text/plain": [
       "True"
      ]
     },
     "execution_count": 33,
     "metadata": {},
     "output_type": "execute_result"
    }
   ],
   "source": [
    "a > b # greater than"
   ]
  },
  {
   "cell_type": "code",
   "execution_count": 34,
   "id": "c87ec4f0-278d-452c-9122-58c6d48c8668",
   "metadata": {},
   "outputs": [
    {
     "data": {
      "text/plain": [
       "False"
      ]
     },
     "execution_count": 34,
     "metadata": {},
     "output_type": "execute_result"
    }
   ],
   "source": [
    "a < b # less than"
   ]
  },
  {
   "cell_type": "code",
   "execution_count": 35,
   "id": "ed71766f-03dc-4bea-995f-611a85b276cf",
   "metadata": {},
   "outputs": [
    {
     "data": {
      "text/plain": [
       "False"
      ]
     },
     "execution_count": 35,
     "metadata": {},
     "output_type": "execute_result"
    }
   ],
   "source": [
    "a == b # is equals to"
   ]
  },
  {
   "cell_type": "code",
   "execution_count": 36,
   "id": "b8bcec66-a15e-48e5-9369-32ff883e8efd",
   "metadata": {},
   "outputs": [
    {
     "data": {
      "text/plain": [
       "False"
      ]
     },
     "execution_count": 36,
     "metadata": {},
     "output_type": "execute_result"
    }
   ],
   "source": [
    "a <= b # less than or equals to"
   ]
  },
  {
   "cell_type": "code",
   "execution_count": 37,
   "id": "4025a4bf-42d2-4592-858a-d24adb421cb5",
   "metadata": {},
   "outputs": [
    {
     "data": {
      "text/plain": [
       "True"
      ]
     },
     "execution_count": 37,
     "metadata": {},
     "output_type": "execute_result"
    }
   ],
   "source": [
    "a >= b # greater than or equals to"
   ]
  },
  {
   "cell_type": "code",
   "execution_count": 38,
   "id": "7006068d-2248-4ec0-9cc5-1585a44b1ea2",
   "metadata": {},
   "outputs": [
    {
     "data": {
      "text/plain": [
       "True"
      ]
     },
     "execution_count": 38,
     "metadata": {},
     "output_type": "execute_result"
    }
   ],
   "source": [
    "a != b # not equals to"
   ]
  },
  {
   "cell_type": "markdown",
   "id": "b64ab37c-7547-45c8-a73e-61c64b54a888",
   "metadata": {},
   "source": [
    "BOOLEAN OPERATORS"
   ]
  },
  {
   "cell_type": "code",
   "execution_count": 39,
   "id": "4a446cdb-e21d-4593-b4be-deddfdecafed",
   "metadata": {},
   "outputs": [],
   "source": [
    "a1 = True\n",
    "b1 = False"
   ]
  },
  {
   "cell_type": "code",
   "execution_count": 40,
   "id": "3d71c75b-3ffb-45a7-9924-8c4d6828e3d8",
   "metadata": {},
   "outputs": [
    {
     "data": {
      "text/plain": [
       "False"
      ]
     },
     "execution_count": 40,
     "metadata": {},
     "output_type": "execute_result"
    }
   ],
   "source": [
    "not(a1)"
   ]
  },
  {
   "cell_type": "code",
   "execution_count": 41,
   "id": "39bc4c97-48dc-44cf-92cd-2047beeb8e27",
   "metadata": {},
   "outputs": [
    {
     "data": {
      "text/plain": [
       "False"
      ]
     },
     "execution_count": 41,
     "metadata": {},
     "output_type": "execute_result"
    }
   ],
   "source": [
    "a1 and b1"
   ]
  },
  {
   "cell_type": "code",
   "execution_count": 42,
   "id": "d5925e38-91b6-4ad4-ae4e-29aad4485998",
   "metadata": {},
   "outputs": [
    {
     "data": {
      "text/plain": [
       "True"
      ]
     },
     "execution_count": 42,
     "metadata": {},
     "output_type": "execute_result"
    }
   ],
   "source": [
    "a1 or b1"
   ]
  },
  {
   "cell_type": "markdown",
   "id": "a435471f-2b06-4f1d-b1a5-68f660babdc9",
   "metadata": {},
   "source": [
    "OPERATORS PRECEDENCE\n"
   ]
  },
  {
   "cell_type": "markdown",
   "id": "8ea12d2d-6530-476e-bbc7-6d29cfd7cf1d",
   "metadata": {},
   "source": [
    "--------- PEMDAS ---\n",
    "\n",
    "1) Parentheses () \n",
    "2) Exponents **  # Evaluated right to left\n",
    "3) Multiplication * \n",
    "4) Division /\n",
    "5) Floor division // \n",
    "6) Modulus % \n",
    "7) Addition +\n",
    "8) Substraction -"
   ]
  }
 ],
 "metadata": {
  "kernelspec": {
   "display_name": "Python [conda env:learnenv]",
   "language": "python",
   "name": "conda-env-learnenv-py"
  },
  "language_info": {
   "codemirror_mode": {
    "name": "ipython",
    "version": 3
   },
   "file_extension": ".py",
   "mimetype": "text/x-python",
   "name": "python",
   "nbconvert_exporter": "python",
   "pygments_lexer": "ipython3",
   "version": "3.13.5"
  }
 },
 "nbformat": 4,
 "nbformat_minor": 5
}
