{
 "cells": [
  {
   "cell_type": "markdown",
   "id": "f7fd64a7-5c0b-4f2c-ad5b-26be5cc49f57",
   "metadata": {},
   "source": [
    "JSON MODULE"
   ]
  },
  {
   "cell_type": "code",
   "execution_count": 24,
   "id": "13c7f1ad-708d-40f2-941a-05bc2252bc64",
   "metadata": {},
   "outputs": [
    {
     "name": "stdout",
     "output_type": "stream",
     "text": [
      "{\"name\": \"Alice\", \"age\": 25, \"city\": \"New York\"}\n",
      "<class 'str'>\n"
     ]
    }
   ],
   "source": [
    "import json\n",
    "\n",
    "data = {\"name\": \"Alice\", \"age\": 25, \"city\": \"New York\"}\n",
    "\n",
    "json_string = json.dumps(data)  # convert Python object to JSON (Serialization)\n",
    "print(json_string)  # Output: {\"name\": \"Alice\", \"age\": 25, \"city\": \"New York\"}\n",
    "print(type(json_string))  # <class 'str'>"
   ]
  },
  {
   "cell_type": "code",
   "execution_count": 25,
   "id": "8086af88-7231-4277-b8f8-b0a3a1aa7861",
   "metadata": {},
   "outputs": [],
   "source": [
    "d = json.loads('{\"name\": \"Alice\", \"age\": 25, \"city\": \"New York\"}')"
   ]
  },
  {
   "cell_type": "code",
   "execution_count": 26,
   "id": "7e99ed47-8a15-45fc-a52a-34b4a9659616",
   "metadata": {},
   "outputs": [],
   "source": [
    "obj = {\"Name\" : \"BOB\", \"Age\" : 23, \"City\" : \"Bihar\"}"
   ]
  },
  {
   "cell_type": "code",
   "execution_count": 27,
   "id": "a2cbc711-0850-4b5e-a383-14a684fa72bf",
   "metadata": {},
   "outputs": [
    {
     "data": {
      "text/plain": [
       "dict"
      ]
     },
     "execution_count": 27,
     "metadata": {},
     "output_type": "execute_result"
    }
   ],
   "source": [
    "type(d)"
   ]
  },
  {
   "cell_type": "code",
   "execution_count": 28,
   "id": "6d5ab439-fd6d-4832-93a1-d8dc266cfd45",
   "metadata": {},
   "outputs": [],
   "source": [
    "file = open(\"Bob_data.json\", \"w\")"
   ]
  },
  {
   "cell_type": "code",
   "execution_count": 29,
   "id": "fabcc0ae-ab17-4b09-ab50-6adb6f20e6db",
   "metadata": {},
   "outputs": [],
   "source": [
    "json.dump(obj, file)"
   ]
  },
  {
   "cell_type": "code",
   "execution_count": 30,
   "id": "6bb5e770-12b6-42b8-9cc4-9db4548363c0",
   "metadata": {},
   "outputs": [],
   "source": [
    "file.close()"
   ]
  },
  {
   "cell_type": "code",
   "execution_count": null,
   "id": "a162e6a2-0470-4418-90ec-3bcc3f70fe31",
   "metadata": {},
   "outputs": [],
   "source": []
  }
 ],
 "metadata": {
  "kernelspec": {
   "display_name": "Python [conda env:learnenv]",
   "language": "python",
   "name": "conda-env-learnenv-py"
  },
  "language_info": {
   "codemirror_mode": {
    "name": "ipython",
    "version": 3
   },
   "file_extension": ".py",
   "mimetype": "text/x-python",
   "name": "python",
   "nbconvert_exporter": "python",
   "pygments_lexer": "ipython3",
   "version": "3.13.5"
  }
 },
 "nbformat": 4,
 "nbformat_minor": 5
}
