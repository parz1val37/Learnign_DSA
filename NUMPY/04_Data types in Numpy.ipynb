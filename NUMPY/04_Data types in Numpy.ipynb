{
 "cells": [
  {
   "cell_type": "markdown",
   "id": "203d1659-4207-457f-82a5-74c7771197f2",
   "metadata": {},
   "source": [
    "# Common Data Types in NumPy:\n",
    "- int32, int64: Integer types with different bit sizes.\n",
    "- float32, float64: Floating-point types with different precision.\n",
    "- bool: Boolean data type.\n",
    "- complex64, complex128: Complex number types.\n",
    "- object: For storing objects (e.g., Python objects, strings)."
   ]
  },
  {
   "cell_type": "code",
   "execution_count": 1,
   "id": "c3b377f5-29f1-4148-b51d-6684ad608605",
   "metadata": {},
   "outputs": [],
   "source": [
    "import numpy as np"
   ]
  },
  {
   "cell_type": "code",
   "execution_count": 2,
   "id": "56781b24-81a0-4f4a-b0c5-6edd0b270085",
   "metadata": {},
   "outputs": [
    {
     "name": "stdout",
     "output_type": "stream",
     "text": [
      "int64\n"
     ]
    }
   ],
   "source": [
    "arr = np.array([1, 2, 3, 4, 5])\n",
    "print(arr.dtype)  # Output: int64 (or int32 depending on the system)"
   ]
  },
  {
   "cell_type": "code",
   "execution_count": 3,
   "id": "5211c6ad-601e-4911-8f8a-598a5bb43788",
   "metadata": {},
   "outputs": [
    {
     "data": {
      "text/plain": [
       "array([1., 2., 3., 4., 5.])"
      ]
     },
     "execution_count": 3,
     "metadata": {},
     "output_type": "execute_result"
    }
   ],
   "source": [
    "arr.astype('float64')"
   ]
  },
  {
   "cell_type": "code",
   "execution_count": 4,
   "id": "42fbade7-dea3-4a41-b873-e04eec3c80fa",
   "metadata": {},
   "outputs": [
    {
     "data": {
      "text/plain": [
       "array([1, 2, 3, 4, 5])"
      ]
     },
     "execution_count": 4,
     "metadata": {},
     "output_type": "execute_result"
    }
   ],
   "source": [
    "arr"
   ]
  },
  {
   "cell_type": "markdown",
   "id": "cfc41bcc-675c-4789-bd08-ee592e4dd3a7",
   "metadata": {},
   "source": [
    "# Memory usage"
   ]
  },
  {
   "cell_type": "code",
   "execution_count": 5,
   "id": "e1cefdea-f3b5-4691-bd29-ab9645bcf392",
   "metadata": {},
   "outputs": [
    {
     "name": "stdout",
     "output_type": "stream",
     "text": [
      "24\n",
      "12\n"
     ]
    }
   ],
   "source": [
    "arr_int64 = np.array([1, 2, 3], dtype='int64')\n",
    "arr_int32 = np.array([1, 2, 3], dtype=np.int32)\n",
    "\n",
    "print(arr_int64.nbytes)  # Output: 24 bytes (3 elements * 8 bytes each)\n",
    "print(arr_int32.nbytes)  # Output: 12 bytes (3 elements * 4 bytes each)"
   ]
  },
  {
   "cell_type": "markdown",
   "id": "b7ccb375-40f6-4e7b-b587-b7fb3a880fb7",
   "metadata": {},
   "source": [
    "# String Data Type in NumPy\n",
    "- Although NumPy arrays typically store numerical data, you can also store strings by using the dtype='str' or dtype='U' (Unicode string) format. However, working with strings in NumPy is less efficient than using lists or Python's built-in string types."
   ]
  },
  {
   "cell_type": "code",
   "execution_count": 6,
   "id": "cb27a3ec-bfa6-4024-bab3-d1cb0d142c7e",
   "metadata": {},
   "outputs": [
    {
     "name": "stdout",
     "output_type": "stream",
     "text": [
      "['apple' 'banana' 'cherry']\n"
     ]
    }
   ],
   "source": [
    "arr = np.array(['apple', 'banana', 'cherry'], dtype='U10')  # Unicode string array\n",
    "print(arr)"
   ]
  },
  {
   "cell_type": "markdown",
   "id": "1263af8e-d0ee-4be2-a13d-5b7545433d2c",
   "metadata": {},
   "source": [
    "# Complex Numbers\n",
    "- NumPy also supports complex numbers, which consist of a real and imaginary part. You can store complex numbers using complex64 or complex128 data types"
   ]
  },
  {
   "cell_type": "code",
   "execution_count": 7,
   "id": "f50c7ae6-ea1e-4886-a929-424422f1b8f5",
   "metadata": {},
   "outputs": [],
   "source": [
    "cmplx = np.array([3 + 7j, 5 - 6j, 6 + 9j], dtype='complex128')"
   ]
  },
  {
   "cell_type": "code",
   "execution_count": 8,
   "id": "550c85a8-069e-4a47-84b1-aea5b6ea1536",
   "metadata": {},
   "outputs": [
    {
     "data": {
      "text/plain": [
       "array([3.+7.j, 5.-6.j, 6.+9.j])"
      ]
     },
     "execution_count": 8,
     "metadata": {},
     "output_type": "execute_result"
    }
   ],
   "source": [
    "cmplx"
   ]
  },
  {
   "cell_type": "markdown",
   "id": "717a2c6a-61ca-4e11-bc70-881cedaa6672",
   "metadata": {},
   "source": [
    "# Object Data Type\n",
    "- If you need to store mixed or complex data types (e.g., Python objects), you can use dtype='object'. However, this type sacrifices performance, so it should only be used when absolutely necessary."
   ]
  },
  {
   "cell_type": "code",
   "execution_count": 9,
   "id": "8b2fde1a-66ee-4884-967f-e53502e4ef5b",
   "metadata": {},
   "outputs": [
    {
     "name": "stdout",
     "output_type": "stream",
     "text": [
      "[{'a': 1} list([1, 2, 3]) 'hello']\n"
     ]
    }
   ],
   "source": [
    "arr = np.array([{'a': 1}, [1, 2, 3], 'hello'], dtype=object)\n",
    "print(arr)"
   ]
  }
 ],
 "metadata": {
  "kernelspec": {
   "display_name": "Python [conda env:learnenv]",
   "language": "python",
   "name": "conda-env-learnenv-py"
  },
  "language_info": {
   "codemirror_mode": {
    "name": "ipython",
    "version": 3
   },
   "file_extension": ".py",
   "mimetype": "text/x-python",
   "name": "python",
   "nbconvert_exporter": "python",
   "pygments_lexer": "ipython3",
   "version": "3.13.5"
  }
 },
 "nbformat": 4,
 "nbformat_minor": 5
}
