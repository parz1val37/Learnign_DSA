{
 "cells": [
  {
   "cell_type": "code",
   "execution_count": 3,
   "id": "cbaa78e3-bb9b-4e0c-bbcb-fff3eb2078e9",
   "metadata": {},
   "outputs": [],
   "source": [
    "import numpy as np"
   ]
  },
  {
   "cell_type": "code",
   "execution_count": 2,
   "id": "14507a98-47e4-44b1-b36c-f2c2e5e9aa66",
   "metadata": {},
   "outputs": [],
   "source": [
    "arr = np.array([1, 2, 4])"
   ]
  },
  {
   "cell_type": "code",
   "execution_count": 3,
   "id": "355d217a-eea4-40fb-b023-1f6e9acf8c49",
   "metadata": {},
   "outputs": [
    {
     "data": {
      "text/plain": [
       "array([1, 2, 4])"
      ]
     },
     "execution_count": 3,
     "metadata": {},
     "output_type": "execute_result"
    }
   ],
   "source": [
    "arr"
   ]
  },
  {
   "cell_type": "code",
   "execution_count": 4,
   "id": "b2abb57c-b764-4a48-aba1-a3d305f13c3f",
   "metadata": {},
   "outputs": [
    {
     "data": {
      "text/plain": [
       "array([1, 3, 5])"
      ]
     },
     "execution_count": 4,
     "metadata": {},
     "output_type": "execute_result"
    }
   ],
   "source": [
    "# 1D array\n",
    "arr1 = np.array([1,3,5])\n",
    "arr1"
   ]
  },
  {
   "cell_type": "code",
   "execution_count": 5,
   "id": "7deb3a3c-646d-4685-b06f-4c5fb73c6ac4",
   "metadata": {},
   "outputs": [
    {
     "data": {
      "text/plain": [
       "array([[1, 5, 7],\n",
       "       [3, 8, 2]])"
      ]
     },
     "execution_count": 5,
     "metadata": {},
     "output_type": "execute_result"
    }
   ],
   "source": [
    "# 2D array\n",
    "arr2 = np.array([[1,5,7],[3,8,2]])\n",
    "arr2"
   ]
  },
  {
   "cell_type": "markdown",
   "id": "3e42c0ec-0f1f-4cee-b713-0016df0989a6",
   "metadata": {},
   "source": [
    "- Unlike lists, all elements must have the same data types."
   ]
  },
  {
   "cell_type": "code",
   "execution_count": 6,
   "id": "f856fab2-8979-41db-99c4-0afac9bc9484",
   "metadata": {},
   "outputs": [
    {
     "data": {
      "text/plain": [
       "array([[0., 0., 0.],\n",
       "       [0., 0., 0.],\n",
       "       [0., 0., 0.]])"
      ]
     },
     "execution_count": 6,
     "metadata": {},
     "output_type": "execute_result"
    }
   ],
   "source": [
    "# array of ZEROS\n",
    "np.zeros((3,3))"
   ]
  },
  {
   "cell_type": "code",
   "execution_count": 7,
   "id": "4fe357be-aa8b-4a9f-ae26-2023641967d6",
   "metadata": {},
   "outputs": [
    {
     "data": {
      "text/plain": [
       "array([[1., 1., 1.],\n",
       "       [1., 1., 1.],\n",
       "       [1., 1., 1.]])"
      ]
     },
     "execution_count": 7,
     "metadata": {},
     "output_type": "execute_result"
    }
   ],
   "source": [
    "# array of ONES\n",
    "np.ones((3,3))"
   ]
  },
  {
   "cell_type": "code",
   "execution_count": 8,
   "id": "d18aa04b-76fa-4881-9f61-019515854ec3",
   "metadata": {},
   "outputs": [
    {
     "data": {
      "text/plain": [
       "array([[69, 69, 69],\n",
       "       [69, 69, 69],\n",
       "       [69, 69, 69]])"
      ]
     },
     "execution_count": 8,
     "metadata": {},
     "output_type": "execute_result"
    }
   ],
   "source": [
    "# array of any other Number\n",
    "np.full((3,3),69)"
   ]
  },
  {
   "cell_type": "code",
   "execution_count": 9,
   "id": "873b7117-bba3-42bb-a871-a6af8639c048",
   "metadata": {},
   "outputs": [
    {
     "data": {
      "text/plain": [
       "array([[1., 0., 0.],\n",
       "       [0., 1., 0.],\n",
       "       [0., 0., 1.]])"
      ]
     },
     "execution_count": 9,
     "metadata": {},
     "output_type": "execute_result"
    }
   ],
   "source": [
    "# Identity Matrix array\n",
    "np.eye(3) # Identity Matrix of 3X3"
   ]
  },
  {
   "cell_type": "code",
   "execution_count": 10,
   "id": "fcfa18d8-770b-4925-ac00-43988841360c",
   "metadata": {},
   "outputs": [
    {
     "data": {
      "text/plain": [
       "array([ 1,  5,  9, 13, 17, 21, 25, 29])"
      ]
     },
     "execution_count": 10,
     "metadata": {},
     "output_type": "execute_result"
    }
   ],
   "source": [
    "# Arange array\n",
    "np.arange(1, 30, 4)  # [1, 1+ 4, 1 + 4 + 4, ..]"
   ]
  },
  {
   "cell_type": "code",
   "execution_count": 11,
   "id": "c6cbad7f-cb63-481d-8a21-06f8bdfab0e3",
   "metadata": {},
   "outputs": [
    {
     "data": {
      "text/plain": [
       "array([  1.,  34.,  67., 100.])"
      ]
     },
     "execution_count": 11,
     "metadata": {},
     "output_type": "execute_result"
    }
   ],
   "source": [
    "# np.linspace -- gives evenly spaced array\n",
    "np.linspace(1, 100, 4) # Gives 4 evenly spaced array between 1 to 100."
   ]
  },
  {
   "cell_type": "code",
   "execution_count": 12,
   "id": "cb4ce50b-04bf-480e-a892-68da48e688f2",
   "metadata": {},
   "outputs": [
    {
     "name": "stdout",
     "output_type": "stream",
     "text": [
      "Shape: (2, 3)\n",
      "Size: 6\n",
      "Dimensions: 2\n",
      "Data type: int64\n"
     ]
    }
   ],
   "source": [
    "arr3 = np.array([[10, 20, 30], [40, 50, 60]])\n",
    "\n",
    "print(\"Shape:\", arr3.shape)   # (2, 3) → 2 rows, 3 columns\n",
    "print(\"Size:\", arr3.size)     # 6 → total elements\n",
    "print(\"Dimensions:\", arr3.ndim) # 2 → 2D array\n",
    "print(\"Data type:\", arr3.dtype) # int64 (or int32 on Windows)"
   ]
  },
  {
   "cell_type": "code",
   "execution_count": 14,
   "id": "34112d58-8336-403b-8aeb-ff68293583ea",
   "metadata": {},
   "outputs": [
    {
     "data": {
      "text/plain": [
       "array([[10., 20., 30.],\n",
       "       [40., 50., 60.]], dtype=float32)"
      ]
     },
     "execution_count": 14,
     "metadata": {},
     "output_type": "execute_result"
    }
   ],
   "source": [
    "# Changing Data types\n",
    "arr4 = np.array([[10, 20, 30], [40, 50, 60]], dtype = 'float32')\n",
    "arr4"
   ]
  },
  {
   "cell_type": "code",
   "execution_count": 15,
   "id": "f65b49b0-46bc-4a78-a070-78d90f3ea289",
   "metadata": {},
   "outputs": [
    {
     "data": {
      "text/plain": [
       "array([[10., 20., 30.],\n",
       "       [40., 50., 60.]])"
      ]
     },
     "execution_count": 15,
     "metadata": {},
     "output_type": "execute_result"
    }
   ],
   "source": [
    "arr5 = arr4.astype('float64')\n",
    "arr5"
   ]
  },
  {
   "cell_type": "code",
   "execution_count": 16,
   "id": "dc4169b5-2151-49cb-9c5c-4b49c787cf8a",
   "metadata": {},
   "outputs": [
    {
     "data": {
      "text/plain": [
       "dtype('float32')"
      ]
     },
     "execution_count": 16,
     "metadata": {},
     "output_type": "execute_result"
    }
   ],
   "source": [
    "arr4.dtype # 'float32'"
   ]
  },
  {
   "cell_type": "code",
   "execution_count": 17,
   "id": "b07d685a-6ccb-49a0-a10d-7412e85abe70",
   "metadata": {},
   "outputs": [
    {
     "data": {
      "text/plain": [
       "dtype('float64')"
      ]
     },
     "execution_count": 17,
     "metadata": {},
     "output_type": "execute_result"
    }
   ],
   "source": [
    "arr5.dtype # 'float64'"
   ]
  },
  {
   "cell_type": "code",
   "execution_count": 21,
   "id": "1e6928ee-69c1-4755-b33e-a20214edede7",
   "metadata": {},
   "outputs": [
    {
     "data": {
      "text/plain": [
       "array([3., 7., 6., 9.], dtype=float32)"
      ]
     },
     "execution_count": 21,
     "metadata": {},
     "output_type": "execute_result"
    }
   ],
   "source": [
    "arr5 = np.array([3, 7, 6, 9], dtype = np.float32)\n",
    "arr5"
   ]
  },
  {
   "cell_type": "code",
   "execution_count": 23,
   "id": "899f9403-a79e-44a1-8838-20c6a2cfe469",
   "metadata": {},
   "outputs": [
    {
     "data": {
      "text/plain": [
       "array([3, 7, 6, 9], dtype=int32)"
      ]
     },
     "execution_count": 23,
     "metadata": {},
     "output_type": "execute_result"
    }
   ],
   "source": [
    "arr6 = arr5.astype(np.int32)\n",
    "arr6"
   ]
  },
  {
   "cell_type": "markdown",
   "id": "d8596c0d-fa80-403a-84ef-d41bf515f744",
   "metadata": {},
   "source": [
    "# Reshaping\n",
    "- Changes order of matrix"
   ]
  },
  {
   "cell_type": "code",
   "execution_count": 20,
   "id": "4df5eeca-f4b5-42bb-a58a-995cd055b31d",
   "metadata": {},
   "outputs": [],
   "source": [
    "arr7 = np.array([[3, 5, 9],[84, 69, 37],[123, 54, 4],[314, 167, 27]])  # 4X3 Matrix"
   ]
  },
  {
   "cell_type": "code",
   "execution_count": 21,
   "id": "ab2e8da9-ebbe-4995-9412-a0d169df1874",
   "metadata": {},
   "outputs": [
    {
     "data": {
      "text/plain": [
       "array([[  3,   5,   9],\n",
       "       [ 84,  69,  37],\n",
       "       [123,  54,   4],\n",
       "       [314, 167,  27]])"
      ]
     },
     "execution_count": 21,
     "metadata": {},
     "output_type": "execute_result"
    }
   ],
   "source": [
    "arr7"
   ]
  },
  {
   "cell_type": "code",
   "execution_count": 22,
   "id": "e5975086-05b4-49f7-a4d9-937c45e2ccd3",
   "metadata": {},
   "outputs": [
    {
     "data": {
      "text/plain": [
       "array([[  3,   5,   9,  84],\n",
       "       [ 69,  37, 123,  54],\n",
       "       [  4, 314, 167,  27]])"
      ]
     },
     "execution_count": 22,
     "metadata": {},
     "output_type": "execute_result"
    }
   ],
   "source": [
    "arr7.reshape((3,4)) # # 3X4 Matrix"
   ]
  },
  {
   "cell_type": "code",
   "execution_count": 28,
   "id": "1dd29dcd-ee61-40f5-b228-7b68b4430bae",
   "metadata": {},
   "outputs": [
    {
     "data": {
      "text/plain": [
       "array([[  3,   5],\n",
       "       [  9,  84],\n",
       "       [ 69,  37],\n",
       "       [123,  54],\n",
       "       [  4, 314],\n",
       "       [167,  27]])"
      ]
     },
     "execution_count": 28,
     "metadata": {},
     "output_type": "execute_result"
    }
   ],
   "source": [
    "arr7.reshape((6,2)) # 6X2 Matrix"
   ]
  },
  {
   "cell_type": "markdown",
   "id": "3c55a35c-7d51-4c3e-8894-29603ad8f6f5",
   "metadata": {},
   "source": [
    "# Flatten\n",
    "- changes dimension"
   ]
  },
  {
   "cell_type": "code",
   "execution_count": 29,
   "id": "77220fd0-a75d-41a3-998d-1d0c8cf9b853",
   "metadata": {},
   "outputs": [
    {
     "data": {
      "text/plain": [
       "array([  3,   5,   9,  84,  69,  37, 123,  54,   4, 314, 167,  27])"
      ]
     },
     "execution_count": 29,
     "metadata": {},
     "output_type": "execute_result"
    }
   ],
   "source": [
    "arr7.flatten()"
   ]
  }
 ],
 "metadata": {
  "kernelspec": {
   "display_name": "Python [conda env:learnenv]",
   "language": "python",
   "name": "conda-env-learnenv-py"
  },
  "language_info": {
   "codemirror_mode": {
    "name": "ipython",
    "version": 3
   },
   "file_extension": ".py",
   "mimetype": "text/x-python",
   "name": "python",
   "nbconvert_exporter": "python",
   "pygments_lexer": "ipython3",
   "version": "3.13.5"
  }
 },
 "nbformat": 4,
 "nbformat_minor": 5
}
