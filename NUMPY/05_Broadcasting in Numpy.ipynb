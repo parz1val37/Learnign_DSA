{
 "cells": [
  {
   "cell_type": "markdown",
   "id": "c32363f8-d1e6-43cc-9bec-9fc74148b622",
   "metadata": {},
   "source": [
    "# Vectorization: Fixing the Loop Problem\n",
    "- Vectorization allows you to perform operations on entire arrays at once, instead of iterating over elements one by one. This is made possible by NumPy’s optimized C-based backend that executes operations in compiled code, which is much faster than Python loops.\n",
    "\n",
    "Vectorized operations are also more readable and compact, making your code easier to maintain."
   ]
  },
  {
   "cell_type": "code",
   "execution_count": 2,
   "id": "11c07db7-509c-4967-a7d0-6d24b4f817a4",
   "metadata": {},
   "outputs": [],
   "source": [
    "import numpy as np"
   ]
  },
  {
   "cell_type": "code",
   "execution_count": 3,
   "id": "e169f434-7f7d-4833-b720-9535ae43f4cc",
   "metadata": {},
   "outputs": [
    {
     "name": "stdout",
     "output_type": "stream",
     "text": [
      "[ 1  4  9 16 25]\n"
     ]
    }
   ],
   "source": [
    "arr = np.array([1, 2, 3, 4, 5])\n",
    "result = arr ** 2  # Vectorized operation\n",
    "print(result)  # Output: [1 4 9 16 25]"
   ]
  },
  {
   "cell_type": "markdown",
   "id": "7b429f5d-f544-4d04-9635-662776e019e7",
   "metadata": {},
   "source": [
    "# Why is it Faster?\n",
    "- Low-level implementation: NumPy’s vectorized operations are implemented in C (compiled language), which is much faster than Python loops.\n",
    "- Batch processing: NumPy processes multiple elements in parallel using SIMD (Single Instruction, Multiple Data), allowing multiple operations to be done simultaneously."
   ]
  },
  {
   "cell_type": "markdown",
   "id": "d5354d26-f51e-4539-b8db-4e62e17cb910",
   "metadata": {},
   "source": [
    "# Broadcasting: Scaling Arrays Without Extra Memory\n",
    "- Broadcasting is a powerful feature of NumPy that allows you to perform operations on arrays of different shapes without creating copies. It “stretches” smaller arrays across larger arrays in a memory-efficient way, avoiding the overhead of creating multiple copies of data."
   ]
  },
  {
   "cell_type": "code",
   "execution_count": 4,
   "id": "8902cf8c-9e9f-4255-a7ca-fada8b1001a3",
   "metadata": {},
   "outputs": [
    {
     "name": "stdout",
     "output_type": "stream",
     "text": [
      "[11 12 13 14 15]\n"
     ]
    }
   ],
   "source": [
    "arr = np.array([1, 2, 3, 4, 5])\n",
    "result = arr + 10  # Broadcasting: 10 is added to all elements\n",
    "print(result)  # Output: [11 12 13 14 15]"
   ]
  },
  {
   "cell_type": "markdown",
   "id": "7041cc4f-30d6-4ba7-a3f8-13acd3de3d36",
   "metadata": {},
   "source": [
    "# Broadcasting with Arrays of Different Shapes\n",
    "- Broadcasting becomes more powerful when you apply operations on arrays of different shapes. NumPy automatically adjusts the shapes of arrays to make them compatible for element-wise operations, without actually copying the data."
   ]
  },
  {
   "cell_type": "code",
   "execution_count": 5,
   "id": "f0ea8587-6b2a-4615-9d3c-e932785f80a9",
   "metadata": {},
   "outputs": [
    {
     "name": "stdout",
     "output_type": "stream",
     "text": [
      "[11 22 33]\n"
     ]
    }
   ],
   "source": [
    "arr1 = np.array([1, 2, 3])\n",
    "arr2 = np.array([10, 20, 30])\n",
    "\n",
    "result = arr1 + arr2  # Element-wise addition\n",
    "print(result)  # Output: [11 22 33]"
   ]
  },
  {
   "cell_type": "markdown",
   "id": "701aa6fe-986e-45d7-82f9-85e85fb2304f",
   "metadata": {},
   "source": [
    " Broadcasting a 2D Array and a 1D Array"
   ]
  },
  {
   "cell_type": "code",
   "execution_count": 6,
   "id": "c71038f4-480b-4f88-951b-27a5c26801cf",
   "metadata": {},
   "outputs": [
    {
     "name": "stdout",
     "output_type": "stream",
     "text": [
      "[[2 4 6]\n",
      " [5 7 9]]\n"
     ]
    }
   ],
   "source": [
    "arr1 = np.array([[1, 2, 3], [4, 5, 6]])\n",
    "arr2 = np.array([1, 2, 3])\n",
    "\n",
    "result = arr1 + arr2  # Broadcasting arr2 across arr1\n",
    "print(result)"
   ]
  },
  {
   "cell_type": "markdown",
   "id": "90988697-0712-4333-a03a-c8c287f76809",
   "metadata": {},
   "source": [
    "# How Broadcasting Works\n",
    "- Dimensions must be compatible: The size of the trailing dimensions of the arrays must be either the same or one of them must be 1.\n",
    "- Stretching arrays: If the shapes are compatible, NumPy stretches the smaller array to match the larger one, element-wise, without copying data."
   ]
  },
  {
   "cell_type": "markdown",
   "id": "6879fb4d-aff0-4f35-9263-91e21a050e90",
   "metadata": {},
   "source": [
    "# Applying Broadcasting to Real-World Scenarios\n",
    "Let’s apply broadcasting to a real-world scenario: scaling data in machine learning.\n",
    "\n",
    "Example: Normalizing Data Using Broadcasting\n",
    "Imagine you have a dataset where each row represents a sample and each column represents a feature. You can normalize the data by subtracting the mean of each column and dividing by the standard deviation."
   ]
  },
  {
   "cell_type": "code",
   "execution_count": 7,
   "id": "1c9843b7-4863-41c7-b845-a99fdcf59349",
   "metadata": {},
   "outputs": [
    {
     "name": "stdout",
     "output_type": "stream",
     "text": [
      "[[-1.41421356 -1.41421356 -1.41421356]\n",
      " [-0.70710678 -0.70710678 -0.70710678]\n",
      " [ 0.          0.          0.        ]\n",
      " [ 0.70710678  0.70710678  0.70710678]\n",
      " [ 1.41421356  1.41421356  1.41421356]]\n"
     ]
    }
   ],
   "source": [
    "# Simulating a dataset (5 samples, 3 features)\n",
    "data = np.array([[10, 20, 30],\n",
    "                 [15, 25, 35],\n",
    "                 [20, 30, 40],\n",
    "                 [25, 35, 45],\n",
    "                 [30, 40, 50]])\n",
    "\n",
    "# Calculating mean and standard deviation for each feature (column)\n",
    "mean = data.mean(axis=0)\n",
    "std = data.std(axis=0)\n",
    "\n",
    "# Normalizing the data using broadcasting\n",
    "normalized_data = (data - mean) / std\n",
    "\n",
    "print(normalized_data)"
   ]
  }
 ],
 "metadata": {
  "kernelspec": {
   "display_name": "Python [conda env:learnenv]",
   "language": "python",
   "name": "conda-env-learnenv-py"
  },
  "language_info": {
   "codemirror_mode": {
    "name": "ipython",
    "version": 3
   },
   "file_extension": ".py",
   "mimetype": "text/x-python",
   "name": "python",
   "nbconvert_exporter": "python",
   "pygments_lexer": "ipython3",
   "version": "3.13.5"
  }
 },
 "nbformat": 4,
 "nbformat_minor": 5
}
