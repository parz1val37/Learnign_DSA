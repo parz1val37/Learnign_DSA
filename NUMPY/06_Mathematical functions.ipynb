{
 "cells": [
  {
   "cell_type": "code",
   "execution_count": 1,
   "id": "787e97dc-4adf-4b27-87d6-9f498cac3cf1",
   "metadata": {},
   "outputs": [],
   "source": [
    "import numpy as np"
   ]
  },
  {
   "cell_type": "code",
   "execution_count": 2,
   "id": "87320a50-db09-4f65-a8cf-9702e904137d",
   "metadata": {},
   "outputs": [],
   "source": [
    "arr = np.array([3, 5, 1, 37, 69])"
   ]
  },
  {
   "cell_type": "code",
   "execution_count": 3,
   "id": "3ac21f75-311f-48f4-9e04-82a3c1043300",
   "metadata": {},
   "outputs": [
    {
     "data": {
      "text/plain": [
       "np.float64(23.0)"
      ]
     },
     "execution_count": 3,
     "metadata": {},
     "output_type": "execute_result"
    }
   ],
   "source": [
    "np.mean(arr) # Mean/average of an array"
   ]
  },
  {
   "cell_type": "code",
   "execution_count": 5,
   "id": "b060f79b-cede-4a0e-86fb-4b8dbc277e28",
   "metadata": {},
   "outputs": [
    {
     "data": {
      "text/plain": [
       "np.int64(1)"
      ]
     },
     "execution_count": 5,
     "metadata": {},
     "output_type": "execute_result"
    }
   ],
   "source": [
    "np.min(arr)"
   ]
  },
  {
   "cell_type": "code",
   "execution_count": 6,
   "id": "3c11836b-de97-4745-890a-1c9d73d63191",
   "metadata": {},
   "outputs": [
    {
     "data": {
      "text/plain": [
       "np.int64(69)"
      ]
     },
     "execution_count": 6,
     "metadata": {},
     "output_type": "execute_result"
    }
   ],
   "source": [
    "np.max(arr)"
   ]
  },
  {
   "cell_type": "code",
   "execution_count": 7,
   "id": "893521e5-c026-456f-a084-b2cb968dffd2",
   "metadata": {},
   "outputs": [
    {
     "data": {
      "text/plain": [
       "np.int64(115)"
      ]
     },
     "execution_count": 7,
     "metadata": {},
     "output_type": "execute_result"
    }
   ],
   "source": [
    "np.sum(arr)"
   ]
  },
  {
   "cell_type": "code",
   "execution_count": 9,
   "id": "4ea1b8e7-ccaf-4b10-bdfe-f7e9badfc786",
   "metadata": {},
   "outputs": [
    {
     "data": {
      "text/plain": [
       "np.int64(38295)"
      ]
     },
     "execution_count": 9,
     "metadata": {},
     "output_type": "execute_result"
    }
   ],
   "source": [
    "np.prod(arr)"
   ]
  },
  {
   "cell_type": "code",
   "execution_count": 10,
   "id": "4a0cbf54-3c42-43be-a141-05a3e0e22262",
   "metadata": {},
   "outputs": [
    {
     "data": {
      "text/plain": [
       "np.float64(26.5329983228432)"
      ]
     },
     "execution_count": 10,
     "metadata": {},
     "output_type": "execute_result"
    }
   ],
   "source": [
    "np.std(arr) # std -- Standard deviation"
   ]
  },
  {
   "cell_type": "code",
   "execution_count": 11,
   "id": "9621828f-b611-4bde-80f9-5798aa90b2cb",
   "metadata": {},
   "outputs": [
    {
     "data": {
      "text/plain": [
       "np.float64(704.0)"
      ]
     },
     "execution_count": 11,
     "metadata": {},
     "output_type": "execute_result"
    }
   ],
   "source": [
    "np.var(arr)  # var -- Variance"
   ]
  },
  {
   "cell_type": "code",
   "execution_count": 12,
   "id": "bca605fd-ca1b-416b-8392-4e4b0873f599",
   "metadata": {},
   "outputs": [
    {
     "data": {
      "text/plain": [
       "np.float64(5.0)"
      ]
     },
     "execution_count": 12,
     "metadata": {},
     "output_type": "execute_result"
    }
   ],
   "source": [
    "np.median(arr)"
   ]
  },
  {
   "cell_type": "code",
   "execution_count": 14,
   "id": "b2fce7f5-37da-42d8-bb33-5a8df99109fc",
   "metadata": {},
   "outputs": [
    {
     "data": {
      "text/plain": [
       "np.float64(1.24)"
      ]
     },
     "execution_count": 14,
     "metadata": {},
     "output_type": "execute_result"
    }
   ],
   "source": [
    "np.percentile(arr, 3)"
   ]
  },
  {
   "cell_type": "code",
   "execution_count": 15,
   "id": "b49d7444-8c7f-4883-b04c-d9867cce8a42",
   "metadata": {},
   "outputs": [
    {
     "data": {
      "text/plain": [
       "np.int64(2)"
      ]
     },
     "execution_count": 15,
     "metadata": {},
     "output_type": "execute_result"
    }
   ],
   "source": [
    "np.argmin(arr) # returns the index of minimum value"
   ]
  },
  {
   "cell_type": "code",
   "execution_count": 16,
   "id": "c5d03f36-174e-4eb7-ab5c-93a24f09f269",
   "metadata": {},
   "outputs": [],
   "source": [
    "arr2 = np.array([1, 2, 3, 4, 5])"
   ]
  },
  {
   "cell_type": "code",
   "execution_count": 17,
   "id": "19eab2f7-4f09-4103-83fe-620f39a43a89",
   "metadata": {},
   "outputs": [
    {
     "data": {
      "text/plain": [
       "array([[1.        , 0.87412294],\n",
       "       [0.87412294, 1.        ]])"
      ]
     },
     "execution_count": 17,
     "metadata": {},
     "output_type": "execute_result"
    }
   ],
   "source": [
    "np.corrcoef(arr, arr2) #  Compute the correlation coefficient matrix of two arrays."
   ]
  },
  {
   "cell_type": "code",
   "execution_count": 18,
   "id": "df081985-360f-40dc-9854-f1e684fcd5e7",
   "metadata": {},
   "outputs": [],
   "source": [
    "arr3 = np.array([1, 1, 2, 3, 2, 4, 4, 4, 3, 7, 6, 6, 7])"
   ]
  },
  {
   "cell_type": "code",
   "execution_count": 19,
   "id": "93632d92-b241-4f83-8973-8b365c17c8af",
   "metadata": {},
   "outputs": [
    {
     "data": {
      "text/plain": [
       "array([1, 2, 3, 4, 6, 7])"
      ]
     },
     "execution_count": 19,
     "metadata": {},
     "output_type": "execute_result"
    }
   ],
   "source": [
    "np.unique(arr3)"
   ]
  },
  {
   "cell_type": "code",
   "execution_count": 20,
   "id": "2a8142fc-fc47-4bfb-b271-d7743e23e41c",
   "metadata": {},
   "outputs": [
    {
     "data": {
      "text/plain": [
       "array([  3,   8,   9,  46, 115])"
      ]
     },
     "execution_count": 20,
     "metadata": {},
     "output_type": "execute_result"
    }
   ],
   "source": [
    "np.cumsum(arr) # Cumulative sum of array"
   ]
  },
  {
   "cell_type": "code",
   "execution_count": 21,
   "id": "c06a2331-d670-4cd0-9b1e-2d776617752a",
   "metadata": {},
   "outputs": [
    {
     "data": {
      "text/plain": [
       "array([ 2, -4, 36, 32])"
      ]
     },
     "execution_count": 21,
     "metadata": {},
     "output_type": "execute_result"
    }
   ],
   "source": [
    "np.diff(arr) # diff (right element - left element)"
   ]
  },
  {
   "cell_type": "code",
   "execution_count": 22,
   "id": "2fd73018-e235-46c3-a77e-2d95475a3df9",
   "metadata": {},
   "outputs": [
    {
     "data": {
      "text/plain": [
       "array([ 0.,  5., 10., 15.])"
      ]
     },
     "execution_count": 22,
     "metadata": {},
     "output_type": "execute_result"
    }
   ],
   "source": [
    "np.linspace(0, 15, 4) # 4 evenly spaced numbers between 0 to 15"
   ]
  },
  {
   "cell_type": "code",
   "execution_count": 24,
   "id": "14bf47c1-3333-49ff-9b61-4b1c1a9a9834",
   "metadata": {},
   "outputs": [
    {
     "data": {
      "text/plain": [
       "array([1.09861229, 1.60943791, 0.        , 3.61091791, 4.2341065 ])"
      ]
     },
     "execution_count": 24,
     "metadata": {},
     "output_type": "execute_result"
    }
   ],
   "source": [
    "np.log(arr) # natural log of an array"
   ]
  },
  {
   "cell_type": "code",
   "execution_count": 25,
   "id": "7593d11e-1fed-4409-a393-49f03c8c3e61",
   "metadata": {},
   "outputs": [
    {
     "data": {
      "text/plain": [
       "array([  2.71828183,   7.3890561 ,  20.08553692,  54.59815003,\n",
       "       148.4131591 ])"
      ]
     },
     "execution_count": 25,
     "metadata": {},
     "output_type": "execute_result"
    }
   ],
   "source": [
    "np.exp(arr2) # exponential"
   ]
  }
 ],
 "metadata": {
  "kernelspec": {
   "display_name": "Python [conda env:learnenv]",
   "language": "python",
   "name": "conda-env-learnenv-py"
  },
  "language_info": {
   "codemirror_mode": {
    "name": "ipython",
    "version": 3
   },
   "file_extension": ".py",
   "mimetype": "text/x-python",
   "name": "python",
   "nbconvert_exporter": "python",
   "pygments_lexer": "ipython3",
   "version": "3.13.5"
  }
 },
 "nbformat": 4,
 "nbformat_minor": 5
}
