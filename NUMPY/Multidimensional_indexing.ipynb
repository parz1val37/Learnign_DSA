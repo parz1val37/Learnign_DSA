{
 "cells": [
  {
   "cell_type": "markdown",
   "id": "4e1b9968-8625-42ba-a4c4-82fabd6d01b3",
   "metadata": {},
   "source": [
    "# Multidimensional Indexing and Axis in Numpy"
   ]
  },
  {
   "cell_type": "code",
   "execution_count": 1,
   "id": "eebc0bc8-757c-4b89-8c43-d70acbea719e",
   "metadata": {},
   "outputs": [
    {
     "name": "stdout",
     "output_type": "stream",
     "text": [
      "[[1 2 3]\n",
      " [4 5 6]\n",
      " [7 8 9]]\n"
     ]
    }
   ],
   "source": [
    "import numpy as np\n",
    "\n",
    "arr = np.array([[1, 2, 3],  #-- 0th row\n",
    "                [4, 5, 6],   #-- 1st row\n",
    "                [7, 8, 9]])  #-- 2nd row\n",
    "\n",
    "print(arr)"
   ]
  },
  {
   "cell_type": "code",
   "execution_count": 2,
   "id": "087190bc-cbcc-45b1-9960-ed14ae420be5",
   "metadata": {},
   "outputs": [
    {
     "data": {
      "text/plain": [
       "(3, 3)"
      ]
     },
     "execution_count": 2,
     "metadata": {},
     "output_type": "execute_result"
    }
   ],
   "source": [
    "arr.shape  # (no of rows, no of columns)"
   ]
  },
  {
   "cell_type": "code",
   "execution_count": 3,
   "id": "90cd507e-ec50-4b93-b453-c7edb7dfc1d9",
   "metadata": {},
   "outputs": [
    {
     "data": {
      "text/plain": [
       "array([1, 2, 3])"
      ]
     },
     "execution_count": 3,
     "metadata": {},
     "output_type": "execute_result"
    }
   ],
   "source": [
    "arr[0]"
   ]
  },
  {
   "cell_type": "code",
   "execution_count": 4,
   "id": "71f6c9ff-7593-47ca-93b1-c8b76c9d87f5",
   "metadata": {},
   "outputs": [
    {
     "data": {
      "text/plain": [
       "array([7, 8, 9])"
      ]
     },
     "execution_count": 4,
     "metadata": {},
     "output_type": "execute_result"
    }
   ],
   "source": [
    "arr[2]"
   ]
  },
  {
   "cell_type": "markdown",
   "id": "d8a66652-f3c9-4c25-b3fa-e8b6ac7bb759",
   "metadata": {},
   "source": [
    "- axis=0 : refers to all rows.\n",
    "- axis=1 : refers to all columns."
   ]
  },
  {
   "cell_type": "code",
   "execution_count": 5,
   "id": "f4829165-857d-4384-a8c4-707c44a5a1e1",
   "metadata": {},
   "outputs": [
    {
     "data": {
      "text/plain": [
       "array([12, 15, 18])"
      ]
     },
     "execution_count": 5,
     "metadata": {},
     "output_type": "execute_result"
    }
   ],
   "source": [
    "np.sum( arr, axis=0)  # along each rows (down each column)"
   ]
  },
  {
   "cell_type": "code",
   "execution_count": 6,
   "id": "9f638c96-679a-4c71-a0a9-393e17592c00",
   "metadata": {},
   "outputs": [
    {
     "data": {
      "text/plain": [
       "array([ 6, 15, 24])"
      ]
     },
     "execution_count": 6,
     "metadata": {},
     "output_type": "execute_result"
    }
   ],
   "source": [
    "np.sum(arr, axis=1)  # along each column (down each row)"
   ]
  },
  {
   "cell_type": "code",
   "execution_count": 7,
   "id": "e2e3ee71-1259-4777-a8f3-196f6a8edf05",
   "metadata": {},
   "outputs": [
    {
     "data": {
      "text/plain": [
       "np.int64(6)"
      ]
     },
     "execution_count": 7,
     "metadata": {},
     "output_type": "execute_result"
    }
   ],
   "source": [
    "arr[1][2] # 1st row and 2nd column"
   ]
  },
  {
   "cell_type": "code",
   "execution_count": 8,
   "id": "fcfe9d99-9fe9-409d-90fb-904f3fc61591",
   "metadata": {},
   "outputs": [
    {
     "data": {
      "text/plain": [
       "np.int64(6)"
      ]
     },
     "execution_count": 8,
     "metadata": {},
     "output_type": "execute_result"
    }
   ],
   "source": [
    "arr[1, 2] # 1st row and 2nd column"
   ]
  },
  {
   "cell_type": "code",
   "execution_count": 9,
   "id": "280d292f-cac8-43ab-895a-41dd2bff222a",
   "metadata": {},
   "outputs": [
    {
     "data": {
      "text/plain": [
       "array([[4, 5],\n",
       "       [7, 8]])"
      ]
     },
     "execution_count": 9,
     "metadata": {},
     "output_type": "execute_result"
    }
   ],
   "source": [
    "arr[1:3, 0:2] # 1st row to 2nd row and 0th column to 1st column"
   ]
  },
  {
   "cell_type": "markdown",
   "id": "44425b3e-3325-43f0-a997-9b1e2b9e9a00",
   "metadata": {},
   "source": [
    "- 3D Array and it's indexing"
   ]
  },
  {
   "cell_type": "code",
   "execution_count": 14,
   "id": "63c48016-6757-4edd-87ad-e02ad5c8972e",
   "metadata": {},
   "outputs": [],
   "source": [
    "arr3D = np.array([[[1, 2, 3], [4, 5, 6]],  # 0th depth\n",
    "                  [[7, 8, 9], [10, 11, 12]]])  # 1st depth"
   ]
  },
  {
   "cell_type": "code",
   "execution_count": 15,
   "id": "2ad71bb1-aa9b-4b38-8d39-f7c3c4e0f4aa",
   "metadata": {},
   "outputs": [
    {
     "data": {
      "text/plain": [
       "array([[[ 1,  2,  3],\n",
       "        [ 4,  5,  6]],\n",
       "\n",
       "       [[ 7,  8,  9],\n",
       "        [10, 11, 12]]])"
      ]
     },
     "execution_count": 15,
     "metadata": {},
     "output_type": "execute_result"
    }
   ],
   "source": [
    "arr3D"
   ]
  },
  {
   "cell_type": "code",
   "execution_count": 16,
   "id": "40029710-a45d-42d8-bfca-df6a0ed663f5",
   "metadata": {},
   "outputs": [
    {
     "name": "stdout",
     "output_type": "stream",
     "text": [
      "(2, 2, 3)\n"
     ]
    }
   ],
   "source": [
    "# Output of arr3D.shape is → (depth, rows, columns)\n",
    "print(arr3D.shape)  # Output: (2, 2, 3)"
   ]
  },
  {
   "cell_type": "code",
   "execution_count": 17,
   "id": "41c78d37-ae00-43fd-9eed-e8fa1a8df641",
   "metadata": {},
   "outputs": [
    {
     "data": {
      "text/plain": [
       "np.int64(5)"
      ]
     },
     "execution_count": 17,
     "metadata": {},
     "output_type": "execute_result"
    }
   ],
   "source": [
    "arr3D[0, 1, 1]"
   ]
  },
  {
   "cell_type": "code",
   "execution_count": 20,
   "id": "6f495215-1b43-4200-a5cc-f89db0babce8",
   "metadata": {},
   "outputs": [
    {
     "data": {
      "text/plain": [
       "array([[[ 2,  3],\n",
       "        [ 5,  6]],\n",
       "\n",
       "       [[ 8,  9],\n",
       "        [11, 12]]])"
      ]
     },
     "execution_count": 20,
     "metadata": {},
     "output_type": "execute_result"
    }
   ],
   "source": [
    "arr3D[0:2, 0:2, 1:3]  # Depth: oth to 1st, Row: 0th to 1st, Column: 1st to 2nd"
   ]
  },
  {
   "cell_type": "code",
   "execution_count": 30,
   "id": "f7100f59-70b3-482c-bc01-6f4f6cb8898c",
   "metadata": {},
   "outputs": [],
   "source": [
    "arr3x3 = np.array([[[1, 2, 3],[4, 5, 6],[7, 8, 9]],\n",
    "                  [[10, 11, 12],[13, 14, 15],[16, 17, 18]],\n",
    "                  [[19, 20, 21],[22, 23, 24],[25, 26, 27]]])"
   ]
  },
  {
   "cell_type": "code",
   "execution_count": 31,
   "id": "b1593387-b36c-4ed9-ae72-7a3d9a8fefda",
   "metadata": {},
   "outputs": [
    {
     "data": {
      "text/plain": [
       "array([[[ 1,  2,  3],\n",
       "        [ 4,  5,  6],\n",
       "        [ 7,  8,  9]],\n",
       "\n",
       "       [[10, 11, 12],\n",
       "        [13, 14, 15],\n",
       "        [16, 17, 18]],\n",
       "\n",
       "       [[19, 20, 21],\n",
       "        [22, 23, 24],\n",
       "        [25, 26, 27]]])"
      ]
     },
     "execution_count": 31,
     "metadata": {},
     "output_type": "execute_result"
    }
   ],
   "source": [
    "arr3x3"
   ]
  },
  {
   "cell_type": "code",
   "execution_count": 36,
   "id": "a553afa8-fc66-498f-9f9f-154b4b602c5a",
   "metadata": {},
   "outputs": [],
   "source": [
    "arr3x3[1, :, :] = 0"
   ]
  },
  {
   "cell_type": "code",
   "execution_count": 37,
   "id": "a6cb2497-a634-4061-9011-238d7838069f",
   "metadata": {},
   "outputs": [
    {
     "data": {
      "text/plain": [
       "array([[[ 1,  2,  3],\n",
       "        [ 4,  5,  6],\n",
       "        [ 7,  8,  9]],\n",
       "\n",
       "       [[ 0,  0,  0],\n",
       "        [ 0,  0,  0],\n",
       "        [ 0,  0,  0]],\n",
       "\n",
       "       [[19, 20, 21],\n",
       "        [22, 23, 24],\n",
       "        [25, 26, 27]]])"
      ]
     },
     "execution_count": 37,
     "metadata": {},
     "output_type": "execute_result"
    }
   ],
   "source": [
    "arr3x3"
   ]
  }
 ],
 "metadata": {
  "kernelspec": {
   "display_name": "Python [conda env:learnenv]",
   "language": "python",
   "name": "conda-env-learnenv-py"
  },
  "language_info": {
   "codemirror_mode": {
    "name": "ipython",
    "version": 3
   },
   "file_extension": ".py",
   "mimetype": "text/x-python",
   "name": "python",
   "nbconvert_exporter": "python",
   "pygments_lexer": "ipython3",
   "version": "3.13.5"
  }
 },
 "nbformat": 4,
 "nbformat_minor": 5
}
