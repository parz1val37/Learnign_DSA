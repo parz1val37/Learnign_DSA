{
 "cells": [
  {
   "cell_type": "code",
   "execution_count": 14,
   "id": "f5be5ac0-3b9f-4177-9930-7abd0fd6d343",
   "metadata": {},
   "outputs": [],
   "source": [
    "import numpy as np"
   ]
  },
  {
   "cell_type": "code",
   "execution_count": 15,
   "id": "4784a3a1-f646-4269-a68a-a56114095794",
   "metadata": {},
   "outputs": [
    {
     "data": {
      "text/plain": [
       "array([[  3,   5,   9],\n",
       "       [ 84,  69,  37],\n",
       "       [123,  54,   4],\n",
       "       [314, 167,  27]])"
      ]
     },
     "execution_count": 15,
     "metadata": {},
     "output_type": "execute_result"
    }
   ],
   "source": [
    "arr = np.array([[3, 5, 9],[84, 69, 37],[123, 54, 4],[314, 167, 27]])\n",
    "arr"
   ]
  },
  {
   "cell_type": "code",
   "execution_count": 16,
   "id": "e740f526-4b76-4622-b491-1beda33af1d4",
   "metadata": {},
   "outputs": [
    {
     "data": {
      "text/plain": [
       "array([  3,   5,   9,  84,  69,  37, 123,  54,   4, 314, 167,  27])"
      ]
     },
     "execution_count": 16,
     "metadata": {},
     "output_type": "execute_result"
    }
   ],
   "source": [
    "flat = arr.flatten()\n",
    "flat"
   ]
  },
  {
   "cell_type": "code",
   "execution_count": 17,
   "id": "6b791235-51b7-4b70-916d-9c726dfbf488",
   "metadata": {},
   "outputs": [
    {
     "data": {
      "text/plain": [
       "np.int64(69)"
      ]
     },
     "execution_count": 17,
     "metadata": {},
     "output_type": "execute_result"
    }
   ],
   "source": [
    "flat[4]"
   ]
  },
  {
   "cell_type": "code",
   "execution_count": 18,
   "id": "049bfbdc-15e4-4544-84d6-637bddd35228",
   "metadata": {},
   "outputs": [
    {
     "data": {
      "text/plain": [
       "array([ 84,  69,  37, 123])"
      ]
     },
     "execution_count": 18,
     "metadata": {},
     "output_type": "execute_result"
    }
   ],
   "source": [
    "flat[3:7] # 3 to 6"
   ]
  },
  {
   "cell_type": "code",
   "execution_count": 19,
   "id": "ae9b6997-4d93-4aae-a90a-196dacc6d0c0",
   "metadata": {},
   "outputs": [
    {
     "data": {
      "text/plain": [
       "array([ 3, 69,  4])"
      ]
     },
     "execution_count": 19,
     "metadata": {},
     "output_type": "execute_result"
    }
   ],
   "source": [
    "flat[::4] # Every 4th Elements"
   ]
  },
  {
   "cell_type": "markdown",
   "id": "e740ac0d-ece9-4b41-bce7-c295ed2531ce",
   "metadata": {},
   "source": [
    "# Slicing returns a view, not a copy!\n",
    "- changes in sliced array affects the original array."
   ]
  },
  {
   "cell_type": "code",
   "execution_count": 20,
   "id": "195bea4b-75c2-4d8b-ad29-4417b4b8929b",
   "metadata": {},
   "outputs": [
    {
     "data": {
      "text/plain": [
       "array([  3,   5,   9,  84,  69,  37, 123,  54,   4, 314, 167,  27])"
      ]
     },
     "execution_count": 20,
     "metadata": {},
     "output_type": "execute_result"
    }
   ],
   "source": [
    "flat"
   ]
  },
  {
   "cell_type": "code",
   "execution_count": 21,
   "id": "318faf17-702b-4389-9f64-388417bbe246",
   "metadata": {},
   "outputs": [],
   "source": [
    "sliced = flat[4:9]"
   ]
  },
  {
   "cell_type": "code",
   "execution_count": 22,
   "id": "b0d66c10-2697-416d-94f6-1582446dca01",
   "metadata": {},
   "outputs": [
    {
     "data": {
      "text/plain": [
       "array([ 69,  37, 123,  54,   4])"
      ]
     },
     "execution_count": 22,
     "metadata": {},
     "output_type": "execute_result"
    }
   ],
   "source": [
    "sliced"
   ]
  },
  {
   "cell_type": "code",
   "execution_count": 25,
   "id": "191362f5-ddba-433b-9f71-67ba217bbc76",
   "metadata": {},
   "outputs": [],
   "source": [
    "sliced[1] = 0 # Original array will be changed also."
   ]
  },
  {
   "cell_type": "code",
   "execution_count": 26,
   "id": "448ab149-e778-4294-a863-35b588908dd4",
   "metadata": {},
   "outputs": [
    {
     "data": {
      "text/plain": [
       "array([  3,   5,   9,  84,  69,   0, 123,  54,   4, 314, 167,  27])"
      ]
     },
     "execution_count": 26,
     "metadata": {},
     "output_type": "execute_result"
    }
   ],
   "source": [
    "flat"
   ]
  },
  {
   "cell_type": "markdown",
   "id": "1d886827-ac58-4d5a-b2bf-88f64d0cc48a",
   "metadata": {},
   "source": [
    "# Creating Copy"
   ]
  },
  {
   "cell_type": "code",
   "execution_count": 29,
   "id": "0b224724-1552-45b8-8875-dea42d15d193",
   "metadata": {},
   "outputs": [],
   "source": [
    "copy = flat[5:9].copy()"
   ]
  },
  {
   "cell_type": "code",
   "execution_count": 30,
   "id": "cdbc127e-7e6c-4c09-bfce-98aaef2e9395",
   "metadata": {},
   "outputs": [
    {
     "data": {
      "text/plain": [
       "array([  0, 123,  54,   4])"
      ]
     },
     "execution_count": 30,
     "metadata": {},
     "output_type": "execute_result"
    }
   ],
   "source": [
    "copy"
   ]
  },
  {
   "cell_type": "code",
   "execution_count": 31,
   "id": "1986bbdb-cd52-4a40-80ea-cc5b0dff9a30",
   "metadata": {},
   "outputs": [
    {
     "data": {
      "text/plain": [
       "array([ 37, 123,  54,   4])"
      ]
     },
     "execution_count": 31,
     "metadata": {},
     "output_type": "execute_result"
    }
   ],
   "source": [
    "copy[0] = 37\n",
    "copy"
   ]
  },
  {
   "cell_type": "markdown",
   "id": "a84078af-1ff8-4e66-ad86-460148dc26b2",
   "metadata": {},
   "source": [
    "# Fancy indexing and boolean masking"
   ]
  },
  {
   "cell_type": "code",
   "execution_count": 35,
   "id": "4fc24751-107c-41c5-b7b4-66890d3df3df",
   "metadata": {},
   "outputs": [],
   "source": [
    "arr1 = np.array([2, 6, 8, 4, 9, 0])"
   ]
  },
  {
   "cell_type": "code",
   "execution_count": 36,
   "id": "12ea5b81-6fce-4317-a68d-b71831ea3597",
   "metadata": {},
   "outputs": [
    {
     "data": {
      "text/plain": [
       "array([6, 4, 9])"
      ]
     },
     "execution_count": 36,
     "metadata": {},
     "output_type": "execute_result"
    }
   ],
   "source": [
    "arr1[[1, 3, 4]] # Returns elements at given indices."
   ]
  },
  {
   "cell_type": "code",
   "execution_count": 38,
   "id": "370e86ae-00bf-45c6-a3bf-a84dc3a56519",
   "metadata": {},
   "outputs": [
    {
     "data": {
      "text/plain": [
       "array([6, 8, 9])"
      ]
     },
     "execution_count": 38,
     "metadata": {},
     "output_type": "execute_result"
    }
   ],
   "source": [
    "arr1[arr1>4] "
   ]
  },
  {
   "cell_type": "code",
   "execution_count": 43,
   "id": "d2e23ede-d14a-41f1-84c1-de328de5206d",
   "metadata": {},
   "outputs": [],
   "source": [
    "num = np.array([1, 2, 3, 4, 5, 6, 7, 8, 9])"
   ]
  },
  {
   "cell_type": "code",
   "execution_count": 44,
   "id": "b2c860a7-f593-4aa9-84b7-bda25ce1931a",
   "metadata": {},
   "outputs": [],
   "source": [
    "even = num[num % 2 == 0]"
   ]
  },
  {
   "cell_type": "code",
   "execution_count": 45,
   "id": "2fa2ed90-6cb4-4e4a-ae00-3be846cc13f6",
   "metadata": {},
   "outputs": [
    {
     "data": {
      "text/plain": [
       "array([2, 4, 6, 8])"
      ]
     },
     "execution_count": 45,
     "metadata": {},
     "output_type": "execute_result"
    }
   ],
   "source": [
    "even"
   ]
  },
  {
   "cell_type": "code",
   "execution_count": 46,
   "id": "1cdd7002-4de9-4598-bd4b-17ba203b813b",
   "metadata": {},
   "outputs": [],
   "source": [
    "_3d = num.reshape((3,3))"
   ]
  },
  {
   "cell_type": "code",
   "execution_count": 47,
   "id": "dbd37845-0a9e-48ee-8341-cca2e0b239a6",
   "metadata": {},
   "outputs": [
    {
     "data": {
      "text/plain": [
       "array([[1, 2, 3],\n",
       "       [4, 5, 6],\n",
       "       [7, 8, 9]])"
      ]
     },
     "execution_count": 47,
     "metadata": {},
     "output_type": "execute_result"
    }
   ],
   "source": [
    "_3d"
   ]
  },
  {
   "cell_type": "code",
   "execution_count": 48,
   "id": "b07c3082-c868-4215-82f2-f57a23443163",
   "metadata": {},
   "outputs": [],
   "source": [
    "flot = np.array([1.1, 2.3, 3.5, 4.12])"
   ]
  },
  {
   "cell_type": "code",
   "execution_count": 49,
   "id": "eccdbac9-8d5f-4736-b873-520fa017e720",
   "metadata": {},
   "outputs": [],
   "source": [
    "flot_to_int = flot.astype(np.int32)"
   ]
  },
  {
   "cell_type": "code",
   "execution_count": 50,
   "id": "347dcca5-c52c-4f71-ac7a-b04d6ea4c4d7",
   "metadata": {},
   "outputs": [
    {
     "data": {
      "text/plain": [
       "array([1, 2, 3, 4], dtype=int32)"
      ]
     },
     "execution_count": 50,
     "metadata": {},
     "output_type": "execute_result"
    }
   ],
   "source": [
    "flot_to_int"
   ]
  }
 ],
 "metadata": {
  "kernelspec": {
   "display_name": "Python [conda env:learnenv]",
   "language": "python",
   "name": "conda-env-learnenv-py"
  },
  "language_info": {
   "codemirror_mode": {
    "name": "ipython",
    "version": 3
   },
   "file_extension": ".py",
   "mimetype": "text/x-python",
   "name": "python",
   "nbconvert_exporter": "python",
   "pygments_lexer": "ipython3",
   "version": "3.13.5"
  }
 },
 "nbformat": 4,
 "nbformat_minor": 5
}
