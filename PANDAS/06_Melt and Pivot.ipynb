{
 "cells": [
  {
   "cell_type": "code",
   "execution_count": 1,
   "id": "1d7b0f24-2eb3-449f-8800-1d46e1fa356e",
   "metadata": {},
   "outputs": [],
   "source": [
    "import pandas as pd"
   ]
  },
  {
   "cell_type": "markdown",
   "id": "40ce50ca-29df-4f99-b155-85da833274f8",
   "metadata": {},
   "source": [
    "# melt() — Wide to Long\n",
    "The melt() method in Pandas is used to unpivot a DataFrame from wide format to long format. In other words, it takes columns that represent different variables and combines them into key-value pairs (i.e., long-form data)."
   ]
  },
  {
   "cell_type": "markdown",
   "id": "392b281a-45e1-4e03-805a-b700b530cc8c",
   "metadata": {},
   "source": [
    "- When to Use melt():\n",
    "When you have a DataFrame where each row is an observation, and each column represents a different variable or measurement, and you want to reshape the data into a longer format for easier analysis or visualization."
   ]
  },
  {
   "cell_type": "code",
   "execution_count": 2,
   "id": "f6e19cae-108e-4d66-be62-72a38242cec9",
   "metadata": {},
   "outputs": [
    {
     "name": "stdout",
     "output_type": "stream",
     "text": [
      "      Name  Math  Science  English\n",
      "0    Alice    85       90       88\n",
      "1      Bob    78       82       85\n",
      "2  Charlie    92       89       94\n"
     ]
    }
   ],
   "source": [
    "# Sample DataFrame\n",
    "data = {\n",
    "    'Name': ['Alice', 'Bob', 'Charlie'],\n",
    "    'Math': [85, 78, 92],\n",
    "    'Science': [90, 82, 89],\n",
    "    'English': [88, 85, 94]\n",
    "}\n",
    "\n",
    "df = pd.DataFrame(data)\n",
    "\n",
    "# Display the DataFrame\n",
    "print(df)"
   ]
  },
  {
   "cell_type": "code",
   "execution_count": 6,
   "id": "e2858519-8a86-4150-8773-6fde7e6e5d69",
   "metadata": {},
   "outputs": [
    {
     "data": {
      "text/html": [
       "<div>\n",
       "<style scoped>\n",
       "    .dataframe tbody tr th:only-of-type {\n",
       "        vertical-align: middle;\n",
       "    }\n",
       "\n",
       "    .dataframe tbody tr th {\n",
       "        vertical-align: top;\n",
       "    }\n",
       "\n",
       "    .dataframe thead th {\n",
       "        text-align: right;\n",
       "    }\n",
       "</style>\n",
       "<table border=\"1\" class=\"dataframe\">\n",
       "  <thead>\n",
       "    <tr style=\"text-align: right;\">\n",
       "      <th></th>\n",
       "      <th>Name</th>\n",
       "      <th>Subject</th>\n",
       "      <th>Score</th>\n",
       "    </tr>\n",
       "  </thead>\n",
       "  <tbody>\n",
       "    <tr>\n",
       "      <th>0</th>\n",
       "      <td>Alice</td>\n",
       "      <td>Math</td>\n",
       "      <td>85</td>\n",
       "    </tr>\n",
       "    <tr>\n",
       "      <th>1</th>\n",
       "      <td>Bob</td>\n",
       "      <td>Math</td>\n",
       "      <td>78</td>\n",
       "    </tr>\n",
       "    <tr>\n",
       "      <th>2</th>\n",
       "      <td>Charlie</td>\n",
       "      <td>Math</td>\n",
       "      <td>92</td>\n",
       "    </tr>\n",
       "    <tr>\n",
       "      <th>3</th>\n",
       "      <td>Alice</td>\n",
       "      <td>Science</td>\n",
       "      <td>90</td>\n",
       "    </tr>\n",
       "    <tr>\n",
       "      <th>4</th>\n",
       "      <td>Bob</td>\n",
       "      <td>Science</td>\n",
       "      <td>82</td>\n",
       "    </tr>\n",
       "    <tr>\n",
       "      <th>5</th>\n",
       "      <td>Charlie</td>\n",
       "      <td>Science</td>\n",
       "      <td>89</td>\n",
       "    </tr>\n",
       "    <tr>\n",
       "      <th>6</th>\n",
       "      <td>Alice</td>\n",
       "      <td>English</td>\n",
       "      <td>88</td>\n",
       "    </tr>\n",
       "    <tr>\n",
       "      <th>7</th>\n",
       "      <td>Bob</td>\n",
       "      <td>English</td>\n",
       "      <td>85</td>\n",
       "    </tr>\n",
       "    <tr>\n",
       "      <th>8</th>\n",
       "      <td>Charlie</td>\n",
       "      <td>English</td>\n",
       "      <td>94</td>\n",
       "    </tr>\n",
       "  </tbody>\n",
       "</table>\n",
       "</div>"
      ],
      "text/plain": [
       "      Name  Subject  Score\n",
       "0    Alice     Math     85\n",
       "1      Bob     Math     78\n",
       "2  Charlie     Math     92\n",
       "3    Alice  Science     90\n",
       "4      Bob  Science     82\n",
       "5  Charlie  Science     89\n",
       "6    Alice  English     88\n",
       "7      Bob  English     85\n",
       "8  Charlie  English     94"
      ]
     },
     "execution_count": 6,
     "metadata": {},
     "output_type": "execute_result"
    }
   ],
   "source": [
    "df.melt(id_vars=[\"Name\"], value_vars=[\"Math\",\"Science\",\"English\"], var_name=\"Subject\", value_name=\"Score\")"
   ]
  },
  {
   "cell_type": "markdown",
   "id": "aaf2743e-d3a0-42a7-bb38-029999d7b368",
   "metadata": {},
   "source": [
    "# Parameters:\n",
    "- id_vars: The columns that you want to keep fixed (these columns will remain as identifiers).\n",
    "- value_vars: The columns you want to unpivot (the ones you want to \"melt\" into a single column).\n",
    "- var_name: The name to use for the new column that will contain the names of the melted columns (default is 'variable').\n",
    "- value_name: The name to use for the new column that will contain the values from the melted columns (default is 'value').\n",
    "- col_level: Used for multi-level column DataFrames."
   ]
  },
  {
   "cell_type": "markdown",
   "id": "f89e88ca-306e-4532-815f-6f6705fc23a5",
   "metadata": {},
   "source": [
    "# pivot( ) — Long to Wide\n",
    "The pivot() function in Pandas is used to reshape data, specifically to turn long-format data into wide-format data. This is the reverse operation of melt().\n",
    "\n",
    "- How it works:\n",
    "  pivot() takes a long-format DataFrame and turns it into a wide-format    DataFrame by specifying which columns will become the new columns, the rows,  and the values."
   ]
  },
  {
   "cell_type": "code",
   "execution_count": 10,
   "id": "a212ff49-f43a-44d9-8228-e103149a38b3",
   "metadata": {},
   "outputs": [],
   "source": [
    "df1 = df.melt(id_vars=[\"Name\"], value_vars=[\"Math\",\"Science\",\"English\"], var_name=\"Subject\", value_name=\"Score\")"
   ]
  },
  {
   "cell_type": "code",
   "execution_count": 11,
   "id": "c94ca766-7643-4063-8d7d-164f5d027732",
   "metadata": {},
   "outputs": [
    {
     "data": {
      "text/html": [
       "<div>\n",
       "<style scoped>\n",
       "    .dataframe tbody tr th:only-of-type {\n",
       "        vertical-align: middle;\n",
       "    }\n",
       "\n",
       "    .dataframe tbody tr th {\n",
       "        vertical-align: top;\n",
       "    }\n",
       "\n",
       "    .dataframe thead th {\n",
       "        text-align: right;\n",
       "    }\n",
       "</style>\n",
       "<table border=\"1\" class=\"dataframe\">\n",
       "  <thead>\n",
       "    <tr style=\"text-align: right;\">\n",
       "      <th>Subject</th>\n",
       "      <th>English</th>\n",
       "      <th>Math</th>\n",
       "      <th>Science</th>\n",
       "    </tr>\n",
       "    <tr>\n",
       "      <th>Name</th>\n",
       "      <th></th>\n",
       "      <th></th>\n",
       "      <th></th>\n",
       "    </tr>\n",
       "  </thead>\n",
       "  <tbody>\n",
       "    <tr>\n",
       "      <th>Alice</th>\n",
       "      <td>88</td>\n",
       "      <td>85</td>\n",
       "      <td>90</td>\n",
       "    </tr>\n",
       "    <tr>\n",
       "      <th>Bob</th>\n",
       "      <td>85</td>\n",
       "      <td>78</td>\n",
       "      <td>82</td>\n",
       "    </tr>\n",
       "    <tr>\n",
       "      <th>Charlie</th>\n",
       "      <td>94</td>\n",
       "      <td>92</td>\n",
       "      <td>89</td>\n",
       "    </tr>\n",
       "  </tbody>\n",
       "</table>\n",
       "</div>"
      ],
      "text/plain": [
       "Subject  English  Math  Science\n",
       "Name                           \n",
       "Alice         88    85       90\n",
       "Bob           85    78       82\n",
       "Charlie       94    92       89"
      ]
     },
     "execution_count": 11,
     "metadata": {},
     "output_type": "execute_result"
    }
   ],
   "source": [
    "df1.pivot(index=\"Name\", columns=\"Subject\", values=\"Score\")"
   ]
  },
  {
   "cell_type": "markdown",
   "id": "ab29a7e8-ac08-4e59-aa59-cb7e31a06e87",
   "metadata": {},
   "source": [
    "# Parameters:\n",
    "- index: The column whose unique values will become the rows of the new DataFrame.\n",
    "- columns: The column whose unique values will become the columns of the new DataFrame.\n",
    "- values: The column whose values will fill the new DataFrame. These will become the actual data (values in the table)."
   ]
  },
  {
   "cell_type": "markdown",
   "id": "fa9e3ade-2310-4caa-aef5-55a7ff9dfaed",
   "metadata": {},
   "source": [
    "# Why use pivot()?\n",
    "- Better data structure: It makes data easier to analyze when you have categories that you want to split into multiple columns.\n",
    "- Easier visualization: Often, you want to represent data in a format where categories are split across columns (for example, when creating pivot tables for reporting).\n",
    "- Aggregating data: You can perform aggregations (like sum, mean, etc.) to group values before pivoting."
   ]
  },
  {
   "cell_type": "markdown",
   "id": "51852058-8ffc-409d-8e10-ef835f45c607",
   "metadata": {},
   "source": [
    "- Duplicate Entries: If you have multiple rows with the same combination of index and columns, pivot() will raise an error. In such cases, you should use pivot_table() (which can handle duplicate entries by aggregating them)."
   ]
  },
  {
   "cell_type": "markdown",
   "id": "bec891c4-eabd-4d7b-b142-cd612f9b2b57",
   "metadata": {},
   "source": [
    "# Example of pivot_table() to handle duplicates:"
   ]
  },
  {
   "cell_type": "code",
   "execution_count": 13,
   "id": "14c73ac6-75e2-46d6-80cc-6f55ed8e2fa3",
   "metadata": {},
   "outputs": [],
   "source": [
    "data = {\n",
    "    'Name': ['Alice', 'Bob', 'Bob', 'Charlie'],\n",
    "    'Math': [85, 78, 91, 92],\n",
    "    'Science': [90, 82, 75, 89],\n",
    "    'English': [88, 85, 87, 94]\n",
    "}\n",
    "\n",
    "df2 = pd.DataFrame(data)"
   ]
  },
  {
   "cell_type": "code",
   "execution_count": 15,
   "id": "3f865390-c3a8-4c2e-a6f1-e15ce03d14f2",
   "metadata": {},
   "outputs": [],
   "source": [
    "df3 = df2.melt(id_vars=\"Name\", value_vars=[\"Math\", \"Science\", \"English\"], var_name=\"Subject\",value_name=\"Score\")"
   ]
  },
  {
   "cell_type": "code",
   "execution_count": 16,
   "id": "48036d61-8904-455b-aeec-30e50a6ea2f2",
   "metadata": {},
   "outputs": [
    {
     "data": {
      "text/html": [
       "<div>\n",
       "<style scoped>\n",
       "    .dataframe tbody tr th:only-of-type {\n",
       "        vertical-align: middle;\n",
       "    }\n",
       "\n",
       "    .dataframe tbody tr th {\n",
       "        vertical-align: top;\n",
       "    }\n",
       "\n",
       "    .dataframe thead th {\n",
       "        text-align: right;\n",
       "    }\n",
       "</style>\n",
       "<table border=\"1\" class=\"dataframe\">\n",
       "  <thead>\n",
       "    <tr style=\"text-align: right;\">\n",
       "      <th></th>\n",
       "      <th>Name</th>\n",
       "      <th>Subject</th>\n",
       "      <th>Score</th>\n",
       "    </tr>\n",
       "  </thead>\n",
       "  <tbody>\n",
       "    <tr>\n",
       "      <th>0</th>\n",
       "      <td>Alice</td>\n",
       "      <td>Math</td>\n",
       "      <td>85</td>\n",
       "    </tr>\n",
       "    <tr>\n",
       "      <th>1</th>\n",
       "      <td>Bob</td>\n",
       "      <td>Math</td>\n",
       "      <td>78</td>\n",
       "    </tr>\n",
       "    <tr>\n",
       "      <th>2</th>\n",
       "      <td>Bob</td>\n",
       "      <td>Math</td>\n",
       "      <td>91</td>\n",
       "    </tr>\n",
       "    <tr>\n",
       "      <th>3</th>\n",
       "      <td>Charlie</td>\n",
       "      <td>Math</td>\n",
       "      <td>92</td>\n",
       "    </tr>\n",
       "    <tr>\n",
       "      <th>4</th>\n",
       "      <td>Alice</td>\n",
       "      <td>Science</td>\n",
       "      <td>90</td>\n",
       "    </tr>\n",
       "    <tr>\n",
       "      <th>5</th>\n",
       "      <td>Bob</td>\n",
       "      <td>Science</td>\n",
       "      <td>82</td>\n",
       "    </tr>\n",
       "    <tr>\n",
       "      <th>6</th>\n",
       "      <td>Bob</td>\n",
       "      <td>Science</td>\n",
       "      <td>75</td>\n",
       "    </tr>\n",
       "    <tr>\n",
       "      <th>7</th>\n",
       "      <td>Charlie</td>\n",
       "      <td>Science</td>\n",
       "      <td>89</td>\n",
       "    </tr>\n",
       "    <tr>\n",
       "      <th>8</th>\n",
       "      <td>Alice</td>\n",
       "      <td>English</td>\n",
       "      <td>88</td>\n",
       "    </tr>\n",
       "    <tr>\n",
       "      <th>9</th>\n",
       "      <td>Bob</td>\n",
       "      <td>English</td>\n",
       "      <td>85</td>\n",
       "    </tr>\n",
       "    <tr>\n",
       "      <th>10</th>\n",
       "      <td>Bob</td>\n",
       "      <td>English</td>\n",
       "      <td>87</td>\n",
       "    </tr>\n",
       "    <tr>\n",
       "      <th>11</th>\n",
       "      <td>Charlie</td>\n",
       "      <td>English</td>\n",
       "      <td>94</td>\n",
       "    </tr>\n",
       "  </tbody>\n",
       "</table>\n",
       "</div>"
      ],
      "text/plain": [
       "       Name  Subject  Score\n",
       "0     Alice     Math     85\n",
       "1       Bob     Math     78\n",
       "2       Bob     Math     91\n",
       "3   Charlie     Math     92\n",
       "4     Alice  Science     90\n",
       "5       Bob  Science     82\n",
       "6       Bob  Science     75\n",
       "7   Charlie  Science     89\n",
       "8     Alice  English     88\n",
       "9       Bob  English     85\n",
       "10      Bob  English     87\n",
       "11  Charlie  English     94"
      ]
     },
     "execution_count": 16,
     "metadata": {},
     "output_type": "execute_result"
    }
   ],
   "source": [
    "df3"
   ]
  },
  {
   "cell_type": "code",
   "execution_count": 17,
   "id": "853d7c5f-d12c-437d-ab96-10487dce65be",
   "metadata": {},
   "outputs": [
    {
     "data": {
      "text/html": [
       "<div>\n",
       "<style scoped>\n",
       "    .dataframe tbody tr th:only-of-type {\n",
       "        vertical-align: middle;\n",
       "    }\n",
       "\n",
       "    .dataframe tbody tr th {\n",
       "        vertical-align: top;\n",
       "    }\n",
       "\n",
       "    .dataframe thead th {\n",
       "        text-align: right;\n",
       "    }\n",
       "</style>\n",
       "<table border=\"1\" class=\"dataframe\">\n",
       "  <thead>\n",
       "    <tr style=\"text-align: right;\">\n",
       "      <th>Subject</th>\n",
       "      <th>English</th>\n",
       "      <th>Math</th>\n",
       "      <th>Science</th>\n",
       "    </tr>\n",
       "    <tr>\n",
       "      <th>Name</th>\n",
       "      <th></th>\n",
       "      <th></th>\n",
       "      <th></th>\n",
       "    </tr>\n",
       "  </thead>\n",
       "  <tbody>\n",
       "    <tr>\n",
       "      <th>Alice</th>\n",
       "      <td>88.0</td>\n",
       "      <td>85.0</td>\n",
       "      <td>90.0</td>\n",
       "    </tr>\n",
       "    <tr>\n",
       "      <th>Bob</th>\n",
       "      <td>86.0</td>\n",
       "      <td>84.5</td>\n",
       "      <td>78.5</td>\n",
       "    </tr>\n",
       "    <tr>\n",
       "      <th>Charlie</th>\n",
       "      <td>94.0</td>\n",
       "      <td>92.0</td>\n",
       "      <td>89.0</td>\n",
       "    </tr>\n",
       "  </tbody>\n",
       "</table>\n",
       "</div>"
      ],
      "text/plain": [
       "Subject  English  Math  Science\n",
       "Name                           \n",
       "Alice       88.0  85.0     90.0\n",
       "Bob         86.0  84.5     78.5\n",
       "Charlie     94.0  92.0     89.0"
      ]
     },
     "execution_count": 17,
     "metadata": {},
     "output_type": "execute_result"
    }
   ],
   "source": [
    "df3.pivot_table(index=\"Name\", columns=\"Subject\", values=\"Score\", aggfunc=\"mean\")"
   ]
  }
 ],
 "metadata": {
  "kernelspec": {
   "display_name": "Python 3 (ipykernel)",
   "language": "python",
   "name": "python3"
  },
  "language_info": {
   "codemirror_mode": {
    "name": "ipython",
    "version": 3
   },
   "file_extension": ".py",
   "mimetype": "text/x-python",
   "name": "python",
   "nbconvert_exporter": "python",
   "pygments_lexer": "ipython3",
   "version": "3.13.5"
  }
 },
 "nbformat": 4,
 "nbformat_minor": 5
}
