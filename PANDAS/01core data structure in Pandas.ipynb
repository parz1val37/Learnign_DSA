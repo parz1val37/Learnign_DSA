{
 "cells": [
  {
   "cell_type": "code",
   "execution_count": 1,
   "id": "837d0c19-02a6-46b7-9f09-4e6ec41df442",
   "metadata": {},
   "outputs": [],
   "source": [
    "import pandas as pd"
   ]
  },
  {
   "cell_type": "markdown",
   "id": "a064c42f-f969-4f83-bcf3-9aa867e8936b",
   "metadata": {},
   "source": [
    "# Core Data Structures in Pandas\n",
    "Pandas is built on two main data structures:\n",
    "\n",
    "- Series → One-dimensional (like a single column in Excel)\n",
    "- DataFrame → Two-dimensional (like a full spreadsheet or SQL table)"
   ]
  },
  {
   "cell_type": "markdown",
   "id": "f9856bcc-1b25-4a4d-a31f-01c74ae8a4f6",
   "metadata": {},
   "source": [
    "# Series — 1D Labeled Array\n",
    "A Series is like a list with labels (index)."
   ]
  },
  {
   "cell_type": "code",
   "execution_count": 2,
   "id": "d2e9c238-f277-46ac-8927-987a3821cb8a",
   "metadata": {},
   "outputs": [
    {
     "name": "stdout",
     "output_type": "stream",
     "text": [
      "0    10\n",
      "1    20\n",
      "2    30\n",
      "3    40\n",
      "dtype: int64\n"
     ]
    }
   ],
   "source": [
    "s = pd.Series([10, 20, 30, 40])\n",
    "print(s)"
   ]
  },
  {
   "cell_type": "code",
   "execution_count": 4,
   "id": "3f1f95e1-52e8-42d4-adf8-48d5cbcc6a30",
   "metadata": {},
   "outputs": [
    {
     "data": {
      "text/plain": [
       "a    10\n",
       "b    20\n",
       "c    30\n",
       "dtype: int64"
      ]
     },
     "execution_count": 4,
     "metadata": {},
     "output_type": "execute_result"
    }
   ],
   "source": [
    "s1 = pd.Series([10, 20, 30], index=[\"a\", \"b\", \"c\"])  # Custom index\n",
    "s1"
   ]
  },
  {
   "cell_type": "markdown",
   "id": "f29d5fd2-86c3-496c-92a8-c7a7702ed4f3",
   "metadata": {},
   "source": [
    "# DataFrame — 2D Labeled Table\n",
    "A DataFrame is like a dictionary of Series — multiple columns with labels."
   ]
  },
  {
   "cell_type": "code",
   "execution_count": 5,
   "id": "b6f0bd20-fe34-42e2-99ca-84ad93d4e702",
   "metadata": {},
   "outputs": [
    {
     "name": "stdout",
     "output_type": "stream",
     "text": [
      "      name  age       city\n",
      "0    Alice   25      Delhi\n",
      "1      Bob   30     Mumbai\n",
      "2  Charlie   35  Bangalore\n"
     ]
    }
   ],
   "source": [
    "data = {\n",
    "    \"name\": [\"Alice\", \"Bob\", \"Charlie\"],\n",
    "    \"age\": [25, 30, 35],\n",
    "    \"city\": [\"Delhi\", \"Mumbai\", \"Bangalore\"]\n",
    "}\n",
    "\n",
    "df = pd.DataFrame(data)\n",
    "print(df)"
   ]
  },
  {
   "cell_type": "code",
   "execution_count": 6,
   "id": "ee119033-e6d5-4dca-8795-225f74df16f3",
   "metadata": {},
   "outputs": [
    {
     "data": {
      "text/plain": [
       "RangeIndex(start=0, stop=3, step=1)"
      ]
     },
     "execution_count": 6,
     "metadata": {},
     "output_type": "execute_result"
    }
   ],
   "source": [
    "df.index"
   ]
  },
  {
   "cell_type": "code",
   "execution_count": 8,
   "id": "a67a77fe-bfc9-4dc5-85aa-9a0d7dc8cff5",
   "metadata": {},
   "outputs": [
    {
     "data": {
      "text/plain": [
       "Index(['name', 'age', 'city'], dtype='object')"
      ]
     },
     "execution_count": 8,
     "metadata": {},
     "output_type": "execute_result"
    }
   ],
   "source": [
    "df.columns"
   ]
  }
 ],
 "metadata": {
  "kernelspec": {
   "display_name": "Python [conda env:learnenv]",
   "language": "python",
   "name": "conda-env-learnenv-py"
  },
  "language_info": {
   "codemirror_mode": {
    "name": "ipython",
    "version": 3
   },
   "file_extension": ".py",
   "mimetype": "text/x-python",
   "name": "python",
   "nbconvert_exporter": "python",
   "pygments_lexer": "ipython3",
   "version": "3.13.5"
  }
 },
 "nbformat": 4,
 "nbformat_minor": 5
}
