{
 "cells": [
  {
   "cell_type": "code",
   "execution_count": 26,
   "id": "022b4b71-b506-43ca-8f03-9662f74e4c8a",
   "metadata": {},
   "outputs": [],
   "source": [
    "import json"
   ]
  },
  {
   "cell_type": "code",
   "execution_count": 32,
   "id": "17594908-34ba-43bc-9b57-8d5be6b3b502",
   "metadata": {},
   "outputs": [],
   "source": [
    "# this func. load the data..\n",
    "def load_data(filename):\n",
    "    with open(filename, \"r\") as f:\n",
    "        data = json.load(f)\n",
    "    return data"
   ]
  },
  {
   "cell_type": "code",
   "execution_count": 33,
   "id": "b0c3142b-4202-42fc-99b4-067c4d90b9a9",
   "metadata": {},
   "outputs": [],
   "source": [
    "data = load_data(\"data_01.json\")"
   ]
  },
  {
   "cell_type": "code",
   "execution_count": 34,
   "id": "d92c46ee-53b1-450a-b136-278ec128f56b",
   "metadata": {},
   "outputs": [
    {
     "data": {
      "text/plain": [
       "{'users': [{'id': 1, 'name': 'Amit', 'friends': [2, 3], 'liked_pages': [101]},\n",
       "  {'id': 2, 'name': 'Priya', 'friends': [1, 4], 'liked_pages': [102]},\n",
       "  {'id': 3, 'name': 'Rahul', 'friends': [1], 'liked_pages': [101, 103]},\n",
       "  {'id': 4, 'name': 'Sara', 'friends': [2], 'liked_pages': [104]}],\n",
       " 'pages': [{'id': 101, 'name': 'Python Developers'},\n",
       "  {'id': 102, 'name': 'Data Science Enthusiasts'},\n",
       "  {'id': 103, 'name': 'AI & ML Community'},\n",
       "  {'id': 104, 'name': 'Web Dev Hub'}]}"
      ]
     },
     "execution_count": 34,
     "metadata": {},
     "output_type": "execute_result"
    }
   ],
   "source": [
    "data"
   ]
  },
  {
   "cell_type": "code",
   "execution_count": 35,
   "id": "d6a738fa-b6ae-40ed-9f67-0e1ac2ac0215",
   "metadata": {},
   "outputs": [],
   "source": [
    "# func to display user and their connections..\n",
    "def display_users(data):\n",
    "    print(\"Users and their connections:\\n\")\n",
    "    for user in data[\"users\"]:\n",
    "        print(f\"ID:{user['id']}- {user['name']} is friends with: {user['friends']} and liked pages are {user['liked_pages']}\")\n",
    "    print(\"\\nPages information:\\n\")  \n",
    "    for page in data[\"pages\"]:\n",
    "        print(f\"{page['id']}: {page['name']}\")"
   ]
  },
  {
   "cell_type": "code",
   "execution_count": 36,
   "id": "0aa1f90e-b726-4b76-b3f5-2e109351952c",
   "metadata": {},
   "outputs": [
    {
     "name": "stdout",
     "output_type": "stream",
     "text": [
      "Users and their connections:\n",
      "\n",
      "ID:1- Amit is friends with: [2, 3] and liked pages are [101]\n",
      "ID:2- Priya is friends with: [1, 4] and liked pages are [102]\n",
      "ID:3- Rahul is friends with: [1] and liked pages are [101, 103]\n",
      "ID:4- Sara is friends with: [2] and liked pages are [104]\n",
      "\n",
      "Pages information:\n",
      "\n",
      "101: Python Developers\n",
      "102: Data Science Enthusiasts\n",
      "103: AI & ML Community\n",
      "104: Web Dev Hub\n"
     ]
    }
   ],
   "source": [
    "display_users(data)"
   ]
  },
  {
   "cell_type": "code",
   "execution_count": null,
   "id": "dd430687-047e-44ca-929d-c4d0bf8223ea",
   "metadata": {},
   "outputs": [],
   "source": []
  }
 ],
 "metadata": {
  "kernelspec": {
   "display_name": "Python [conda env:learnenv]",
   "language": "python",
   "name": "conda-env-learnenv-py"
  },
  "language_info": {
   "codemirror_mode": {
    "name": "ipython",
    "version": 3
   },
   "file_extension": ".py",
   "mimetype": "text/x-python",
   "name": "python",
   "nbconvert_exporter": "python",
   "pygments_lexer": "ipython3",
   "version": "3.13.5"
  }
 },
 "nbformat": 4,
 "nbformat_minor": 5
}
